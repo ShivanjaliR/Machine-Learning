{
 "cells": [
  {
   "cell_type": "code",
   "execution_count": 3,
   "metadata": {},
   "outputs": [],
   "source": [
    "import numpy as np\n",
    "import matplotlib.pyplot as plt\n",
    "from sklearn import datasets\n",
    "import math \n",
    "import pandas as pd\n",
    "from collections import Counter \n",
    "import csv\n",
    "from io import StringIO  \n",
    "from sklearn.linear_model import LinearRegression \n",
    "from sklearn import linear_model \n",
    "# import statsmodels.api as sm \n",
    "import statistics \n",
    "from collections import OrderedDict \n",
    "from sklearn.tree import export_graphviz \n",
    "import sys\n",
    "from sklearn.model_selection import train_test_split   \n",
    "\n",
    "\n",
    "iris = datasets.load_iris()\n",
    "iris_data = iris.data"
   ]
  },
  {
   "cell_type": "code",
   "execution_count": 13,
   "metadata": {},
   "outputs": [
    {
     "name": "stdout",
     "output_type": "stream",
     "text": [
      "1.0\n",
      "{'Species': nan}\n"
     ]
    }
   ],
   "source": [
    "df = pd.read_csv('iris.csv')\n",
    "Sepal_lengh = df[df.columns[0]]\n",
    "Sepal_width = df[df.columns[1]]\n",
    "Petal_length = df[df.columns[2]]\n",
    "Petal_width= df[df.columns[3]]\n",
    "Species= df[df.columns[4]]\n",
    "print(Species[148])\n",
    "#Species_dic = { 'Species': Species[i] for i in range(0, len(Species))}\n",
    "for i in range(0, len(Species)):\n",
    "    Species_dic = {'Species': Species[i] }\n",
    "print(Species_dic)    \n",
    "               "
   ]
  },
  {
   "cell_type": "code",
   "execution_count": 14,
   "metadata": {},
   "outputs": [
    {
     "name": "stdout",
     "output_type": "stream",
     "text": [
      "[{'Sepal length': '5.1', 'Sepal width': '3.5', 'Petal length': '1.4', 'Petal width': '0.2', 'Species': '0'}, {'Sepal length': '4.9', 'Sepal width': '3', 'Petal length': '1.4', 'Petal width': '0.2', 'Species': '0'}, {'Sepal length': '4.7', 'Sepal width': '3.2', 'Petal length': '1.3', 'Petal width': '0.2', 'Species': '0'}, {'Sepal length': '4.6', 'Sepal width': '3.1', 'Petal length': '1.5', 'Petal width': '0.2', 'Species': '0'}, {'Sepal length': '5', 'Sepal width': '3.6', 'Petal length': '1.4', 'Petal width': '0.2', 'Species': '0'}, {'Sepal length': '5.4', 'Sepal width': '3.9', 'Petal length': '1.7', 'Petal width': '0.4', 'Species': '0'}, {'Sepal length': '4.6', 'Sepal width': '3.4', 'Petal length': '1.4', 'Petal width': '0.3', 'Species': '0'}, {'Sepal length': '5', 'Sepal width': '3.4', 'Petal length': '1.5', 'Petal width': '0.2', 'Species': '0'}, {'Sepal length': '4.4', 'Sepal width': '2.9', 'Petal length': '1.4', 'Petal width': '0.2', 'Species': '0'}, {'Sepal length': '4.9', 'Sepal width': '3.1', 'Petal length': '1.5', 'Petal width': '0.1', 'Species': '0'}, {'Sepal length': '5.4', 'Sepal width': '3.7', 'Petal length': '1.5', 'Petal width': '0.2', 'Species': '0'}, {'Sepal length': '4.8', 'Sepal width': '3.4', 'Petal length': '1.6', 'Petal width': '0.2', 'Species': '0'}, {'Sepal length': '4.8', 'Sepal width': '3', 'Petal length': '1.4', 'Petal width': '0.1', 'Species': '0'}, {'Sepal length': '4.3', 'Sepal width': '3', 'Petal length': '1.1', 'Petal width': '0.1', 'Species': '0'}, {'Sepal length': '5.8', 'Sepal width': '4', 'Petal length': '1.2', 'Petal width': '0.2', 'Species': '0'}, {'Sepal length': '5.7', 'Sepal width': '4.4', 'Petal length': '1.5', 'Petal width': '0.4', 'Species': '0'}, {'Sepal length': '5.4', 'Sepal width': '3.9', 'Petal length': '1.3', 'Petal width': '0.4', 'Species': '0'}, {'Sepal length': '5.1', 'Sepal width': '3.5', 'Petal length': '1.4', 'Petal width': '0.3', 'Species': '0'}, {'Sepal length': '5.7', 'Sepal width': '3.8', 'Petal length': '1.7', 'Petal width': '0.3', 'Species': '0'}, {'Sepal length': '5.1', 'Sepal width': '3.8', 'Petal length': '1.5', 'Petal width': '0.3', 'Species': '0'}, {'Sepal length': '5.4', 'Sepal width': '3.4', 'Petal length': '1.7', 'Petal width': '0.2', 'Species': '0'}, {'Sepal length': '5.1', 'Sepal width': '3.7', 'Petal length': '1.5', 'Petal width': '0.4', 'Species': '0'}, {'Sepal length': '4.6', 'Sepal width': '3.6', 'Petal length': '1', 'Petal width': '0.2', 'Species': '0'}, {'Sepal length': '5.1', 'Sepal width': '3.3', 'Petal length': '1.7', 'Petal width': '0.5', 'Species': '0'}, {'Sepal length': '4.8', 'Sepal width': '3.4', 'Petal length': '1.9', 'Petal width': '0.2', 'Species': '0'}, {'Sepal length': '5', 'Sepal width': '3', 'Petal length': '1.6', 'Petal width': '0.2', 'Species': '0'}, {'Sepal length': '5', 'Sepal width': '3.4', 'Petal length': '1.6', 'Petal width': '0.4', 'Species': '0'}, {'Sepal length': '5.2', 'Sepal width': '3.5', 'Petal length': '1.5', 'Petal width': '0.2', 'Species': '0'}, {'Sepal length': '5.2', 'Sepal width': '3.4', 'Petal length': '1.4', 'Petal width': '0.2', 'Species': '0'}, {'Sepal length': '4.7', 'Sepal width': '3.2', 'Petal length': '1.6', 'Petal width': '0.2', 'Species': '0'}, {'Sepal length': '4.8', 'Sepal width': '3.1', 'Petal length': '1.6', 'Petal width': '0.2', 'Species': '0'}, {'Sepal length': '5.4', 'Sepal width': '3.4', 'Petal length': '1.5', 'Petal width': '0.4', 'Species': '0'}, {'Sepal length': '5.2', 'Sepal width': '4.1', 'Petal length': '1.5', 'Petal width': '0.1', 'Species': '0'}, {'Sepal length': '5.5', 'Sepal width': '4.2', 'Petal length': '1.4', 'Petal width': '0.2', 'Species': '0'}, {'Sepal length': '4.9', 'Sepal width': '3.1', 'Petal length': '1.5', 'Petal width': '0.2', 'Species': '0'}, {'Sepal length': '5', 'Sepal width': '3.2', 'Petal length': '1.2', 'Petal width': '0.2', 'Species': '0'}, {'Sepal length': '5.5', 'Sepal width': '3.5', 'Petal length': '1.3', 'Petal width': '0.2', 'Species': '0'}, {'Sepal length': '4.9', 'Sepal width': '3.6', 'Petal length': '1.4', 'Petal width': '0.1', 'Species': '0'}, {'Sepal length': '4.4', 'Sepal width': '3', 'Petal length': '1.3', 'Petal width': '0.2', 'Species': '0'}, {'Sepal length': '5.1', 'Sepal width': '3.4', 'Petal length': '1.5', 'Petal width': '0.2', 'Species': '0'}, {'Sepal length': '5', 'Sepal width': '3.5', 'Petal length': '1.3', 'Petal width': '0.3', 'Species': '0'}, {'Sepal length': '4.5', 'Sepal width': '2.3', 'Petal length': '1.3', 'Petal width': '0.3', 'Species': '0'}, {'Sepal length': '4.4', 'Sepal width': '3.2', 'Petal length': '1.3', 'Petal width': '0.2', 'Species': '0'}, {'Sepal length': '5', 'Sepal width': '3.5', 'Petal length': '1.6', 'Petal width': '0.6', 'Species': '0'}, {'Sepal length': '5.1', 'Sepal width': '3.8', 'Petal length': '1.9', 'Petal width': '0.4', 'Species': '0'}, {'Sepal length': '4.8', 'Sepal width': '3', 'Petal length': '1.4', 'Petal width': '0.3', 'Species': '0'}, {'Sepal length': '5.1', 'Sepal width': '3.8', 'Petal length': '1.6', 'Petal width': '0.2', 'Species': '0'}, {'Sepal length': '4.6', 'Sepal width': '3.2', 'Petal length': '1.4', 'Petal width': '0.2', 'Species': '0'}, {'Sepal length': '5.3', 'Sepal width': '3.7', 'Petal length': '1.5', 'Petal width': '0.2', 'Species': '0'}, {'Sepal length': '5', 'Sepal width': '3.3', 'Petal length': '1.4', 'Petal width': '0.2', 'Species': '1'}, {'Sepal length': '7', 'Sepal width': '3.2', 'Petal length': '4.7', 'Petal width': '1.4', 'Species': '1'}, {'Sepal length': '6.4', 'Sepal width': '3.2', 'Petal length': '4.5', 'Petal width': '1.5', 'Species': '1'}, {'Sepal length': '6.9', 'Sepal width': '3.1', 'Petal length': '4.9', 'Petal width': '1.5', 'Species': '1'}, {'Sepal length': '5.5', 'Sepal width': '2.3', 'Petal length': '4', 'Petal width': '1.3', 'Species': '1'}, {'Sepal length': '6.5', 'Sepal width': '2.8', 'Petal length': '4.6', 'Petal width': '1.5', 'Species': '1'}, {'Sepal length': '5.7', 'Sepal width': '2.8', 'Petal length': '4.5', 'Petal width': '1.3', 'Species': '1'}, {'Sepal length': '6.3', 'Sepal width': '3.3', 'Petal length': '4.7', 'Petal width': '1.6', 'Species': '1'}, {'Sepal length': '4.9', 'Sepal width': '2.4', 'Petal length': '3.3', 'Petal width': '1', 'Species': '1'}, {'Sepal length': '6.6', 'Sepal width': '2.9', 'Petal length': '4.6', 'Petal width': '1.3', 'Species': '1'}, {'Sepal length': '5.2', 'Sepal width': '2.7', 'Petal length': '3.9', 'Petal width': '1.4', 'Species': '1'}, {'Sepal length': '5', 'Sepal width': '2', 'Petal length': '3.5', 'Petal width': '1', 'Species': '1'}, {'Sepal length': '5.9', 'Sepal width': '3', 'Petal length': '4.2', 'Petal width': '1.5', 'Species': '1'}, {'Sepal length': '6', 'Sepal width': '2.2', 'Petal length': '4', 'Petal width': '1', 'Species': '1'}, {'Sepal length': '6.1', 'Sepal width': '2.9', 'Petal length': '4.7', 'Petal width': '1.4', 'Species': '1'}, {'Sepal length': '5.6', 'Sepal width': '2.9', 'Petal length': '3.6', 'Petal width': '1.3', 'Species': '1'}, {'Sepal length': '6.7', 'Sepal width': '3.1', 'Petal length': '4.4', 'Petal width': '1.4', 'Species': '1'}, {'Sepal length': '5.6', 'Sepal width': '3', 'Petal length': '4.5', 'Petal width': '1.5', 'Species': '1'}, {'Sepal length': '5.8', 'Sepal width': '2.7', 'Petal length': '4.1', 'Petal width': '1', 'Species': '1'}, {'Sepal length': '6.2', 'Sepal width': '2.2', 'Petal length': '4.5', 'Petal width': '1.5', 'Species': '1'}, {'Sepal length': '5.6', 'Sepal width': '2.5', 'Petal length': '3.9', 'Petal width': '1.1', 'Species': '1'}, {'Sepal length': '5.9', 'Sepal width': '3.2', 'Petal length': '4.8', 'Petal width': '1.8', 'Species': '1'}, {'Sepal length': '6.1', 'Sepal width': '2.8', 'Petal length': '4', 'Petal width': '1.3', 'Species': '1'}, {'Sepal length': '6.3', 'Sepal width': '2.5', 'Petal length': '4.9', 'Petal width': '1.5', 'Species': '1'}, {'Sepal length': '6.1', 'Sepal width': '2.8', 'Petal length': '4.7', 'Petal width': '1.2', 'Species': '1'}, {'Sepal length': '6.4', 'Sepal width': '2.9', 'Petal length': '4.3', 'Petal width': '1.3', 'Species': '1'}, {'Sepal length': '6.6', 'Sepal width': '3', 'Petal length': '4.4', 'Petal width': '1.4', 'Species': '1'}, {'Sepal length': '6.8', 'Sepal width': '2.8', 'Petal length': '4.8', 'Petal width': '1.4', 'Species': '1'}, {'Sepal length': '6.7', 'Sepal width': '3', 'Petal length': '5', 'Petal width': '1.7', 'Species': '1'}, {'Sepal length': '6', 'Sepal width': '2.9', 'Petal length': '4.5', 'Petal width': '1.5', 'Species': '1'}, {'Sepal length': '5.7', 'Sepal width': '2.6', 'Petal length': '3.5', 'Petal width': '1', 'Species': '1'}, {'Sepal length': '5.5', 'Sepal width': '2.4', 'Petal length': '3.8', 'Petal width': '1.1', 'Species': '1'}, {'Sepal length': '5.5', 'Sepal width': '2.4', 'Petal length': '3.7', 'Petal width': '1', 'Species': '1'}, {'Sepal length': '5.8', 'Sepal width': '2.7', 'Petal length': '3.9', 'Petal width': '1.2', 'Species': '1'}, {'Sepal length': '6', 'Sepal width': '2.7', 'Petal length': '5.1', 'Petal width': '1.6', 'Species': '1'}, {'Sepal length': '5.4', 'Sepal width': '3', 'Petal length': '4.5', 'Petal width': '1.5', 'Species': '1'}, {'Sepal length': '6', 'Sepal width': '3.4', 'Petal length': '4.5', 'Petal width': '1.6', 'Species': '1'}, {'Sepal length': '6.7', 'Sepal width': '3.1', 'Petal length': '4.7', 'Petal width': '1.5', 'Species': '1'}, {'Sepal length': '6.3', 'Sepal width': '2.3', 'Petal length': '4.4', 'Petal width': '1.3', 'Species': '1'}, {'Sepal length': '5.6', 'Sepal width': '3', 'Petal length': '4.1', 'Petal width': '1.3', 'Species': '1'}, {'Sepal length': '5.5', 'Sepal width': '2.5', 'Petal length': '4', 'Petal width': '1.3', 'Species': '1'}, {'Sepal length': '5.5', 'Sepal width': '2.6', 'Petal length': '4.4', 'Petal width': '1.2', 'Species': '1'}, {'Sepal length': '6.1', 'Sepal width': '3', 'Petal length': '4.6', 'Petal width': '1.4', 'Species': '1'}, {'Sepal length': '5.8', 'Sepal width': '2.6', 'Petal length': '4', 'Petal width': '1.2', 'Species': '1'}, {'Sepal length': '5', 'Sepal width': '2.3', 'Petal length': '3.3', 'Petal width': '1', 'Species': '1'}, {'Sepal length': '5.6', 'Sepal width': '2.7', 'Petal length': '4.2', 'Petal width': '1.3', 'Species': '1'}, {'Sepal length': '5.7', 'Sepal width': '3', 'Petal length': '4.2', 'Petal width': '1.2', 'Species': '1'}, {'Sepal length': '5.7', 'Sepal width': '2.9', 'Petal length': '4.2', 'Petal width': '1.3', 'Species': '1'}, {'Sepal length': '6.2', 'Sepal width': '2.9', 'Petal length': '4.3', 'Petal width': '1.3', 'Species': '1'}, {'Sepal length': '5.1', 'Sepal width': '2.5', 'Petal length': '3', 'Petal width': '1.1', 'Species': '1'}, {'Sepal length': '5.7', 'Sepal width': '2.8', 'Petal length': '4.1', 'Petal width': '1.3', 'Species': '1'}, {'Sepal length': '6.3', 'Sepal width': '3.3', 'Petal length': '6', 'Petal width': '2.5', 'Species': '1'}, {'Sepal length': '5.8', 'Sepal width': '2.7', 'Petal length': '5.1', 'Petal width': '1.9', 'Species': '1'}, {'Sepal length': '7.1', 'Sepal width': '3', 'Petal length': '5.9', 'Petal width': '2.1', 'Species': '1'}, {'Sepal length': '6.3', 'Sepal width': '2.9', 'Petal length': '5.6', 'Petal width': '1.8', 'Species': '1'}, {'Sepal length': '6.5', 'Sepal width': '3', 'Petal length': '5.8', 'Petal width': '2.2', 'Species': '1'}, {'Sepal length': '7.6', 'Sepal width': '3', 'Petal length': '6.6', 'Petal width': '2.1', 'Species': '1'}, {'Sepal length': '4.9', 'Sepal width': '2.5', 'Petal length': '4.5', 'Petal width': '1.7', 'Species': '1'}, {'Sepal length': '7.3', 'Sepal width': '2.9', 'Petal length': '6.3', 'Petal width': '1.8', 'Species': '1'}, {'Sepal length': '6.7', 'Sepal width': '2.5', 'Petal length': '5.8', 'Petal width': '1.8', 'Species': '1'}, {'Sepal length': '7.2', 'Sepal width': '3.6', 'Petal length': '6.1', 'Petal width': '2.5', 'Species': '1'}, {'Sepal length': '6.5', 'Sepal width': '3.2', 'Petal length': '5.1', 'Petal width': '2', 'Species': '1'}, {'Sepal length': '6.4', 'Sepal width': '2.7', 'Petal length': '5.3', 'Petal width': '1.9', 'Species': '1'}, {'Sepal length': '6.8', 'Sepal width': '3', 'Petal length': '5.5', 'Petal width': '2.1', 'Species': '1'}, {'Sepal length': '5.7', 'Sepal width': '2.5', 'Petal length': '5', 'Petal width': '2', 'Species': '1'}, {'Sepal length': '5.8', 'Sepal width': '2.8', 'Petal length': '5.1', 'Petal width': '2.4', 'Species': '1'}, {'Sepal length': '6.4', 'Sepal width': '3.2', 'Petal length': '5.3', 'Petal width': '2.3', 'Species': '1'}, {'Sepal length': '6.5', 'Sepal width': '3', 'Petal length': '5.5', 'Petal width': '1.8', 'Species': '1'}, {'Sepal length': '7.7', 'Sepal width': '3.8', 'Petal length': '6.7', 'Petal width': '2.2', 'Species': '1'}, {'Sepal length': '7.7', 'Sepal width': '2.6', 'Petal length': '6.9', 'Petal width': '2.3', 'Species': '1'}, {'Sepal length': '6', 'Sepal width': '2.2', 'Petal length': '5', 'Petal width': '1.5', 'Species': '1'}, {'Sepal length': '6.9', 'Sepal width': '3.2', 'Petal length': '5.7', 'Petal width': '2.3', 'Species': '1'}, {'Sepal length': '5.6', 'Sepal width': '2.8', 'Petal length': '4.9', 'Petal width': '2', 'Species': '1'}, {'Sepal length': '7.7', 'Sepal width': '2.8', 'Petal length': '6.7', 'Petal width': '2', 'Species': '1'}, {'Sepal length': '6.3', 'Sepal width': '2.7', 'Petal length': '4.9', 'Petal width': '1.8', 'Species': '1'}, {'Sepal length': '6.7', 'Sepal width': '3.3', 'Petal length': '5.7', 'Petal width': '2.1', 'Species': '1'}, {'Sepal length': '7.2', 'Sepal width': '3.2', 'Petal length': '6', 'Petal width': '1.8', 'Species': '1'}, {'Sepal length': '6.2', 'Sepal width': '2.8', 'Petal length': '4.8', 'Petal width': '1.8', 'Species': '1'}, {'Sepal length': '6.1', 'Sepal width': '3', 'Petal length': '4.9', 'Petal width': '1.8', 'Species': '1'}, {'Sepal length': '6.4', 'Sepal width': '2.8', 'Petal length': '5.6', 'Petal width': '2.1', 'Species': '1'}, {'Sepal length': '7.2', 'Sepal width': '3', 'Petal length': '5.8', 'Petal width': '1.6', 'Species': '1'}, {'Sepal length': '7.4', 'Sepal width': '2.8', 'Petal length': '6.1', 'Petal width': '1.9', 'Species': '1'}, {'Sepal length': '7.9', 'Sepal width': '3.8', 'Petal length': '6.4', 'Petal width': '2', 'Species': '1'}, {'Sepal length': '6.4', 'Sepal width': '2.8', 'Petal length': '5.6', 'Petal width': '2.2', 'Species': '1'}, {'Sepal length': '6.3', 'Sepal width': '2.8', 'Petal length': '5.1', 'Petal width': '1.5', 'Species': '1'}, {'Sepal length': '6.1', 'Sepal width': '2.6', 'Petal length': '5.6', 'Petal width': '1.4', 'Species': '1'}, {'Sepal length': '7.7', 'Sepal width': '3', 'Petal length': '6.1', 'Petal width': '2.3', 'Species': '1'}, {'Sepal length': '6.3', 'Sepal width': '3.4', 'Petal length': '5.6', 'Petal width': '2.4', 'Species': '1'}, {'Sepal length': '6.4', 'Sepal width': '3.1', 'Petal length': '5.5', 'Petal width': '1.8', 'Species': '1'}, {'Sepal length': '6', 'Sepal width': '3', 'Petal length': '4.8', 'Petal width': '1.8', 'Species': '1'}, {'Sepal length': '6.9', 'Sepal width': '3.1', 'Petal length': '5.4', 'Petal width': '2.1', 'Species': '1'}, {'Sepal length': '6.7', 'Sepal width': '3.1', 'Petal length': '5.6', 'Petal width': '2.4', 'Species': '1'}, {'Sepal length': '6.9', 'Sepal width': '3.1', 'Petal length': '5.1', 'Petal width': '2.3', 'Species': '1'}, {'Sepal length': '5.8', 'Sepal width': '2.7', 'Petal length': '5.1', 'Petal width': '1.9', 'Species': '1'}, {'Sepal length': '6.8', 'Sepal width': '3.2', 'Petal length': '5.9', 'Petal width': '2.3', 'Species': '1'}, {'Sepal length': '6.7', 'Sepal width': '3.3', 'Petal length': '5.7', 'Petal width': '2.5', 'Species': '1'}, {'Sepal length': '6.7', 'Sepal width': '3', 'Petal length': '5.2', 'Petal width': '2.3', 'Species': '1'}, {'Sepal length': '6.3', 'Sepal width': '2.5', 'Petal length': '5', 'Petal width': '1.9', 'Species': '1'}, {'Sepal length': '6.5', 'Sepal width': '3', 'Petal length': '5.2', 'Petal width': '2', 'Species': '1'}, {'Sepal length': '6.2', 'Sepal width': '3.4', 'Petal length': '5.4', 'Petal width': '2.3', 'Species': '1'}, {'Sepal length': '5.9', 'Sepal width': '3', 'Petal length': '5.1', 'Petal width': '1.8', 'Species': '1'}, {'Sepal length': '       ', 'Sepal width': '', 'Petal length': '', 'Petal width': '', 'Species': ''}]\n"
     ]
    }
   ],
   "source": [
    "list = []\n",
    "with open('iris.csv', 'r') as df:\n",
    "    for line in csv.DictReader(df):\n",
    "        list.append(line)\n",
    "print(list)     "
   ]
  },
  {
   "cell_type": "code",
   "execution_count": 6,
   "metadata": {},
   "outputs": [
    {
     "data": {
      "text/plain": [
       "151"
      ]
     },
     "execution_count": 6,
     "metadata": {},
     "output_type": "execute_result"
    }
   ],
   "source": [
    "len(list)"
   ]
  },
  {
   "cell_type": "code",
   "execution_count": 6,
   "metadata": {},
   "outputs": [],
   "source": [
    "class Node:\n",
    "\n",
    "    def __init__(self, label):\n",
    "        self.attribute = None  # Attribute (e.g. 'Outlook')\n",
    "        self.attribute_values = []  # Values (e.g. 'Sunny')\n",
    "        self.label = label  # Class label for the node (e.g. 'Play')\n",
    "        self.children = {}  # Keeps track of the node's children\n",
    "\n",
    "        # References to the parent node\n",
    "        self.parent_attribute = None\n",
    "        self.parent_attribute_value = None\n",
    "\n",
    "        # Used for pruned trees\n",
    "        self.pruned = False  # Is this tree pruned?\n",
    "        self.instances_labeled = []"
   ]
  },
  {
   "cell_type": "code",
   "execution_count": 30,
   "metadata": {},
   "outputs": [],
   "source": [
    "def mostCommonClass(dataset):    \n",
    "    classes = []  \n",
    "    if len(dataset) > 0:\n",
    "        for data in dataset:       \n",
    "            classes.append(data['Species'])        \n",
    "            return Counter(classes).most_common(1)[0][0]   \n",
    "\n",
    "def most_informative_attribute(dicts):\n",
    "    selected_attribute = None\n",
    "    max_gain_ratio = -1000\n",
    "    \n",
    "    attributes = [key for key,value in dicts[0].items()]\n",
    "    attributes.remove('Species')\n",
    "    \n",
    "    for attribute in attributes:\n",
    "        gain = gain_ratio(dicts,attribute)\n",
    "        \n",
    "        if gain > max_gain_ratio:\n",
    "            max_gain_ratio = gain\n",
    "            selected_attribute = attribute\n",
    "    return selected_attribute          \n",
    "        \n",
    "    \n",
    "def ID3(dicts, default1, inserted=[]):    \n",
    "   \n",
    "    if len(dicts) == 0:\n",
    "        return Node(deafult1)\n",
    "    \n",
    "    classes = []\n",
    "\n",
    "    for dt in dicts:        \n",
    "        classes.append(dt['Species'])\n",
    "        \n",
    "    if len(Counter(classes)) ==1 or len(classes)==1:\n",
    "        tree = Node(mostCommonClass(dicts))\n",
    "        return tree;\n",
    "    else:\n",
    "        best_attribute = most_informative_attribute(dicts)      \n",
    "        tree = Node(mostCommonClass(dicts))\n",
    "        tree.attribute = best_attribute\n",
    "        best_attribute_values = []\n",
    "        \n",
    "        for dt in dicts:\n",
    "            best_attribute_values.append(dt[best_attribute])\n",
    "        \n",
    "        settemp = set(best_attribute_values)   \n",
    "        tree.attribute_values = (settemp)           \n",
    "        for best_attr in tree.attribute_values:\n",
    "            dict_i = []\n",
    "            for dt in dicts:\n",
    "                if dt[best_attribute] == best_attr and dt not in inserted:\n",
    "                    dict_i.append(dt)\n",
    "                    inserted.append(dt)\n",
    "            subtree = ID3(dict_i,mostCommonClass(dicts),inserted)\n",
    "            subtree.instances_labeled = dict_i\n",
    "            \n",
    "            subtree.parent_attribute = best_attribute\n",
    "            subtree.parent_attribute_value = best_attr\n",
    "            \n",
    "            tree.children[best_attr] = subtree\n",
    "    return tree     \n",
    "            \n",
    "\n",
    "def divide_dataset_by_class(dataset):\n",
    "    label_column = dataset[:, -1]\n",
    "    labels, counts = np.unique(label_column, return_counts=True)\n",
    "    classes = []\n",
    "    classlist = {}\n",
    "       \n",
    "    for cls in range(len(counts)):\n",
    "        classes = []\n",
    "        for index in range(len(label_column)):\n",
    "            if dataset[0:,4][index] == cls:\n",
    "                classes.append(dataset[index, :])\n",
    "        classlist[cls] = classes        \n",
    "    return classlist             \n",
    " \n",
    "# Entropy of particulare class    \n",
    "def entropy(dicts, attribute, attribute_value):\n",
    "    \n",
    "    classes =[]\n",
    "    \n",
    "    for dt in dicts:\n",
    "        if dt[attribute] == attribute_value:\n",
    "            classes.append(dt['Species'])\n",
    "    \n",
    "    counter = Counter(classes)\n",
    "    \n",
    "    if len(counter)==1:\n",
    "        return 0\n",
    "    else:\n",
    "        entropy = 0\n",
    "        for c, count_of_c in counter.items():\n",
    "            #print(c , '->' ,count_of_c )\n",
    "            probability = count_of_c / len(classes)\n",
    "            entropy += probability * math.log2(probability)\n",
    "    return -entropy \n",
    "\n",
    "# Entropy of whole class \n",
    "def prior_entropy(dicts):\n",
    "    \n",
    "    classes = []    \n",
    "    for dt in dicts:       \n",
    "        classes.append(dt['Species'])    \n",
    "    counter = Counter(classes)\n",
    "    \n",
    "    if len(counter) ==1:\n",
    "        return 0\n",
    "    else:\n",
    "        entropy = 0\n",
    "        for c, count_of_c in counter.items():\n",
    "            #print(c , '->' ,count_of_c )\n",
    "            probability = count_of_c / len(classes)\n",
    "            entropy += probability * math.log2(probability)\n",
    "    return -entropy \n",
    "\n",
    "def gain_ratio(dicts,attribute):  \n",
    "    priorentropy = prior_entropy(dicts)\n",
    "    \n",
    "    values = []\n",
    "    for dt in dicts:\n",
    "        values.append(dt[attribute])  \n",
    "     \n",
    "        \n",
    "    counter = Counter(values)\n",
    "    \n",
    "    remaining_entropy = 0\n",
    "    split_information = 0\n",
    "    \n",
    "    for attribute_value, attribute_value_count in counter.items():\n",
    "        #print(attribute_value ,'->' ,attribute_value_count)\n",
    "        probability = attribute_value_count /len(counter)\n",
    "        remaining_entropy += (probability*entropy(dicts,attribute,attribute_value))\n",
    "        split_information += probability * math.log2(probability)\n",
    "    \n",
    "    information_gain = priorentropy - remaining_entropy\n",
    "    split_information = - split_information\n",
    "    \n",
    "    gainratio = 0\n",
    "    if split_information !=0:\n",
    "        gainratio = information_gain / split_information\n",
    "    else:\n",
    "        gainratio = -1000\n",
    "    \n",
    "    return gainratio   \n",
    "\n",
    "def predict(node, test_instance):\n",
    "    if len(node.children) == 0:\n",
    "        return node.label\n",
    "    else:\n",
    "        attribute_value = test_instance[node.attribute]\n",
    "                \n",
    "        if attribute_value in node.children and node.children[attribute_value].pruned == False:\n",
    "            return predict(node.children[attribute_value],test_instance)\n",
    "        else:\n",
    "            instances = []           \n",
    "            for attr_value in node.attribute_values:               \n",
    "                instances += node.children[attr_value].instances_labeled           \n",
    "            return mostCommonClass(instances)    \n",
    "       \n",
    "    \n",
    "def accuracy(trained_tree, test_instances):\n",
    "    no_of_correct_predictions = 0\n",
    "    \n",
    "    for test_instance in test_instances:\n",
    "        if predict(trained_tree, test_instance) == test_instance['Species']:\n",
    "            no_of_correct_predictions += 1\n",
    "    \n",
    "    return no_of_correct_predictions / len(test_instances)  \n",
    "\n",
    "\n",
    "def accuracy1(trained_tree, test_instances):\n",
    "    no_of_correct_predictions = 0\n",
    "    y_actual = []\n",
    "    y_predicted = []\n",
    "    \n",
    "    confusion_matrix = [[0 for i in range(2)] for j in range(2)]\n",
    "    \n",
    "    for test_instance in test_instances:\n",
    "        prediction = predict(trained_tree, test_instance)\n",
    "        if prediction is not None:\n",
    "            y_predicted.append(prediction) \n",
    "            y_actual.append(test_instance['Species'])         \n",
    "                            \n",
    "        \n",
    "    print('Actual Values:',y_actual)\n",
    "    print('Predicted Values:',y_predicted)\n",
    "    \n",
    "    for i in range(len(y_predicted)):\n",
    "          confusion_matrix[int(y_predicted[i])][int(y_actual[i])] += 1         \n",
    "                  \n",
    "    confusion_matrix = np.array(confusion_matrix)\n",
    "    print('Confusion Matrix:')\n",
    "    print(confusion_matrix)\n",
    "    \n",
    "    true_positive = confusion_matrix[0][0]\n",
    "    false_positive = confusion_matrix[0][1]\n",
    "    false_negative = confusion_matrix[1][0]\n",
    "    true_negative = confusion_matrix[1][1]\n",
    "    total = confusion_matrix.sum()\n",
    "    balance_accuracy_total = 0\n",
    "    roc_list = []    \n",
    "   \n",
    "    sensitivity = true_positive / (true_positive+false_negative)\n",
    "    specificity =  true_negative/(false_positive+true_negative)\n",
    "    precision = true_positive / (true_positive+false_positive)\n",
    "    balane_accuracy = (sensitivity + specificity)/2\n",
    "    F1_score = 2*((precision*sensitivity)/(precision+sensitivity))\n",
    "    false_positive_rate = false_positive / (true_negative+false_positive)\n",
    "    true_positive_rate = true_positive / (true_positive+false_negative)\n",
    "    roc = false_positive_rate/true_positive_rate\n",
    "    print('Class',i)\n",
    "    print('True Positive:',true_positive)\n",
    "    print('False Positive:',false_positive)\n",
    "    print('False Negative:',false_negative)\n",
    "    print('True Negative:',true_negative)\n",
    "    print('Recall:', sensitivity)\n",
    "    print('Precision:',precision)\n",
    "    print('Balance Accuracy:',balane_accuracy)    \n",
    "    print('F1 Score:',F1_score)\n",
    "    print('False Positive Rate:',false_positive_rate)\n",
    "    print('True Positive Rate:',true_positive_rate)\n",
    "    print('ROC:',roc)\n",
    "    roc_list.append(roc)      \n",
    "    \n",
    "    roc_point_FPR = []\n",
    "    roc_point_TPR = []\n",
    "    threshold = 1\n",
    "    while threshold > 0:\n",
    "        FP = 0\n",
    "        TP = 0\n",
    "        for i in range(len(test_instance)):\n",
    "            if test_instance['Sepal length'] > threshold:\n",
    "                if test_instance['Species'] == 1:\n",
    "                    TP = TP + 1\n",
    "                else:\n",
    "                    FP = FP + 1\n",
    "        FPR = FP / y_predicted.count(0)\n",
    "        TPR = TP /  y_predicted.count(1)\n",
    "        threshold = threshold-0.1\n",
    "        roc_point_FPR.append(FPR)\n",
    "        roc_point_TPR.append(TPR)  \n",
    "        \n",
    "        \n",
    "    print(roc_point_FPR,roc_point_TPR)\n",
    "    return F1_score, false_positive_rate, true_positive_rate,roc_point_FPR,roc_point_TPR\n",
    "   "
   ]
  },
  {
   "cell_type": "code",
   "execution_count": 256,
   "metadata": {},
   "outputs": [
    {
     "name": "stdout",
     "output_type": "stream",
     "text": [
      "[{'Sepal length': '5.1', 'Sepal width': '3.5', 'Petal length': '1.4', 'Petal width': '0.2', 'Species': '0'}, {'Sepal length': '4.9', 'Sepal width': '3', 'Petal length': '1.4', 'Petal width': '0.2', 'Species': '0'}, {'Sepal length': '4.7', 'Sepal width': '3.2', 'Petal length': '1.3', 'Petal width': '0.2', 'Species': '0'}, {'Sepal length': '4.6', 'Sepal width': '3.1', 'Petal length': '1.5', 'Petal width': '0.2', 'Species': '0'}, {'Sepal length': '5', 'Sepal width': '3.6', 'Petal length': '1.4', 'Petal width': '0.2', 'Species': '0'}, {'Sepal length': '5.4', 'Sepal width': '3.9', 'Petal length': '1.7', 'Petal width': '0.4', 'Species': '0'}, {'Sepal length': '4.6', 'Sepal width': '3.4', 'Petal length': '1.4', 'Petal width': '0.3', 'Species': '0'}, {'Sepal length': '5', 'Sepal width': '3.4', 'Petal length': '1.5', 'Petal width': '0.2', 'Species': '0'}, {'Sepal length': '4.4', 'Sepal width': '2.9', 'Petal length': '1.4', 'Petal width': '0.2', 'Species': '0'}, {'Sepal length': '4.9', 'Sepal width': '3.1', 'Petal length': '1.5', 'Petal width': '0.1', 'Species': '0'}, {'Sepal length': '5.4', 'Sepal width': '3.7', 'Petal length': '1.5', 'Petal width': '0.2', 'Species': '0'}, {'Sepal length': '4.8', 'Sepal width': '3.4', 'Petal length': '1.6', 'Petal width': '0.2', 'Species': '0'}, {'Sepal length': '4.8', 'Sepal width': '3', 'Petal length': '1.4', 'Petal width': '0.1', 'Species': '0'}, {'Sepal length': '4.3', 'Sepal width': '3', 'Petal length': '1.1', 'Petal width': '0.1', 'Species': '0'}, {'Sepal length': '5.8', 'Sepal width': '4', 'Petal length': '1.2', 'Petal width': '0.2', 'Species': '0'}, {'Sepal length': '5.7', 'Sepal width': '4.4', 'Petal length': '1.5', 'Petal width': '0.4', 'Species': '0'}, {'Sepal length': '5.4', 'Sepal width': '3.9', 'Petal length': '1.3', 'Petal width': '0.4', 'Species': '0'}, {'Sepal length': '5.1', 'Sepal width': '3.5', 'Petal length': '1.4', 'Petal width': '0.3', 'Species': '0'}, {'Sepal length': '5.7', 'Sepal width': '3.8', 'Petal length': '1.7', 'Petal width': '0.3', 'Species': '0'}, {'Sepal length': '5.1', 'Sepal width': '3.8', 'Petal length': '1.5', 'Petal width': '0.3', 'Species': '0'}, {'Sepal length': '5.4', 'Sepal width': '3.4', 'Petal length': '1.7', 'Petal width': '0.2', 'Species': '0'}, {'Sepal length': '5.1', 'Sepal width': '3.7', 'Petal length': '1.5', 'Petal width': '0.4', 'Species': '0'}, {'Sepal length': '4.6', 'Sepal width': '3.6', 'Petal length': '1', 'Petal width': '0.2', 'Species': '0'}, {'Sepal length': '5.1', 'Sepal width': '3.3', 'Petal length': '1.7', 'Petal width': '0.5', 'Species': '0'}, {'Sepal length': '4.8', 'Sepal width': '3.4', 'Petal length': '1.9', 'Petal width': '0.2', 'Species': '0'}, {'Sepal length': '5', 'Sepal width': '3', 'Petal length': '1.6', 'Petal width': '0.2', 'Species': '0'}, {'Sepal length': '5', 'Sepal width': '3.4', 'Petal length': '1.6', 'Petal width': '0.4', 'Species': '0'}, {'Sepal length': '5.2', 'Sepal width': '3.5', 'Petal length': '1.5', 'Petal width': '0.2', 'Species': '0'}, {'Sepal length': '5.2', 'Sepal width': '3.4', 'Petal length': '1.4', 'Petal width': '0.2', 'Species': '0'}, {'Sepal length': '4.7', 'Sepal width': '3.2', 'Petal length': '1.6', 'Petal width': '0.2', 'Species': '0'}, {'Sepal length': '4.8', 'Sepal width': '3.1', 'Petal length': '1.6', 'Petal width': '0.2', 'Species': '0'}, {'Sepal length': '5.4', 'Sepal width': '3.4', 'Petal length': '1.5', 'Petal width': '0.4', 'Species': '0'}, {'Sepal length': '5.2', 'Sepal width': '4.1', 'Petal length': '1.5', 'Petal width': '0.1', 'Species': '0'}, {'Sepal length': '5.5', 'Sepal width': '4.2', 'Petal length': '1.4', 'Petal width': '0.2', 'Species': '0'}, {'Sepal length': '4.9', 'Sepal width': '3.1', 'Petal length': '1.5', 'Petal width': '0.2', 'Species': '0'}, {'Sepal length': '5', 'Sepal width': '3.2', 'Petal length': '1.2', 'Petal width': '0.2', 'Species': '0'}, {'Sepal length': '5.5', 'Sepal width': '3.5', 'Petal length': '1.3', 'Petal width': '0.2', 'Species': '0'}, {'Sepal length': '4.9', 'Sepal width': '3.6', 'Petal length': '1.4', 'Petal width': '0.1', 'Species': '0'}, {'Sepal length': '4.4', 'Sepal width': '3', 'Petal length': '1.3', 'Petal width': '0.2', 'Species': '0'}, {'Sepal length': '5.1', 'Sepal width': '3.4', 'Petal length': '1.5', 'Petal width': '0.2', 'Species': '0'}, {'Sepal length': '5', 'Sepal width': '3.5', 'Petal length': '1.3', 'Petal width': '0.3', 'Species': '0'}, {'Sepal length': '4.5', 'Sepal width': '2.3', 'Petal length': '1.3', 'Petal width': '0.3', 'Species': '0'}, {'Sepal length': '4.4', 'Sepal width': '3.2', 'Petal length': '1.3', 'Petal width': '0.2', 'Species': '0'}, {'Sepal length': '5', 'Sepal width': '3.5', 'Petal length': '1.6', 'Petal width': '0.6', 'Species': '0'}, {'Sepal length': '5.1', 'Sepal width': '3.8', 'Petal length': '1.9', 'Petal width': '0.4', 'Species': '0'}, {'Sepal length': '4.8', 'Sepal width': '3', 'Petal length': '1.4', 'Petal width': '0.3', 'Species': '0'}, {'Sepal length': '5.1', 'Sepal width': '3.8', 'Petal length': '1.6', 'Petal width': '0.2', 'Species': '0'}, {'Sepal length': '4.6', 'Sepal width': '3.2', 'Petal length': '1.4', 'Petal width': '0.2', 'Species': '0'}, {'Sepal length': '5.3', 'Sepal width': '3.7', 'Petal length': '1.5', 'Petal width': '0.2', 'Species': '0'}, {'Sepal length': '5', 'Sepal width': '3.3', 'Petal length': '1.4', 'Petal width': '0.2', 'Species': '1'}, {'Sepal length': '7', 'Sepal width': '3.2', 'Petal length': '4.7', 'Petal width': '1.4', 'Species': '1'}, {'Sepal length': '6.4', 'Sepal width': '3.2', 'Petal length': '4.5', 'Petal width': '1.5', 'Species': '1'}, {'Sepal length': '6.9', 'Sepal width': '3.1', 'Petal length': '4.9', 'Petal width': '1.5', 'Species': '1'}, {'Sepal length': '5.5', 'Sepal width': '2.3', 'Petal length': '4', 'Petal width': '1.3', 'Species': '1'}, {'Sepal length': '6.5', 'Sepal width': '2.8', 'Petal length': '4.6', 'Petal width': '1.5', 'Species': '1'}, {'Sepal length': '5.7', 'Sepal width': '2.8', 'Petal length': '4.5', 'Petal width': '1.3', 'Species': '1'}, {'Sepal length': '6.3', 'Sepal width': '3.3', 'Petal length': '4.7', 'Petal width': '1.6', 'Species': '1'}, {'Sepal length': '4.9', 'Sepal width': '2.4', 'Petal length': '3.3', 'Petal width': '1', 'Species': '1'}, {'Sepal length': '6.6', 'Sepal width': '2.9', 'Petal length': '4.6', 'Petal width': '1.3', 'Species': '1'}, {'Sepal length': '5.2', 'Sepal width': '2.7', 'Petal length': '3.9', 'Petal width': '1.4', 'Species': '1'}, {'Sepal length': '5', 'Sepal width': '2', 'Petal length': '3.5', 'Petal width': '1', 'Species': '1'}, {'Sepal length': '5.9', 'Sepal width': '3', 'Petal length': '4.2', 'Petal width': '1.5', 'Species': '1'}, {'Sepal length': '6', 'Sepal width': '2.2', 'Petal length': '4', 'Petal width': '1', 'Species': '1'}, {'Sepal length': '6.1', 'Sepal width': '2.9', 'Petal length': '4.7', 'Petal width': '1.4', 'Species': '1'}, {'Sepal length': '5.6', 'Sepal width': '2.9', 'Petal length': '3.6', 'Petal width': '1.3', 'Species': '1'}, {'Sepal length': '6.7', 'Sepal width': '3.1', 'Petal length': '4.4', 'Petal width': '1.4', 'Species': '1'}, {'Sepal length': '5.6', 'Sepal width': '3', 'Petal length': '4.5', 'Petal width': '1.5', 'Species': '1'}, {'Sepal length': '5.8', 'Sepal width': '2.7', 'Petal length': '4.1', 'Petal width': '1', 'Species': '1'}, {'Sepal length': '6.2', 'Sepal width': '2.2', 'Petal length': '4.5', 'Petal width': '1.5', 'Species': '1'}, {'Sepal length': '5.6', 'Sepal width': '2.5', 'Petal length': '3.9', 'Petal width': '1.1', 'Species': '1'}, {'Sepal length': '5.9', 'Sepal width': '3.2', 'Petal length': '4.8', 'Petal width': '1.8', 'Species': '1'}, {'Sepal length': '6.1', 'Sepal width': '2.8', 'Petal length': '4', 'Petal width': '1.3', 'Species': '1'}, {'Sepal length': '6.3', 'Sepal width': '2.5', 'Petal length': '4.9', 'Petal width': '1.5', 'Species': '1'}, {'Sepal length': '6.1', 'Sepal width': '2.8', 'Petal length': '4.7', 'Petal width': '1.2', 'Species': '1'}, {'Sepal length': '6.4', 'Sepal width': '2.9', 'Petal length': '4.3', 'Petal width': '1.3', 'Species': '1'}, {'Sepal length': '6.6', 'Sepal width': '3', 'Petal length': '4.4', 'Petal width': '1.4', 'Species': '1'}, {'Sepal length': '6.8', 'Sepal width': '2.8', 'Petal length': '4.8', 'Petal width': '1.4', 'Species': '1'}, {'Sepal length': '6.7', 'Sepal width': '3', 'Petal length': '5', 'Petal width': '1.7', 'Species': '1'}, {'Sepal length': '6', 'Sepal width': '2.9', 'Petal length': '4.5', 'Petal width': '1.5', 'Species': '1'}, {'Sepal length': '5.7', 'Sepal width': '2.6', 'Petal length': '3.5', 'Petal width': '1', 'Species': '1'}, {'Sepal length': '5.5', 'Sepal width': '2.4', 'Petal length': '3.8', 'Petal width': '1.1', 'Species': '1'}, {'Sepal length': '5.5', 'Sepal width': '2.4', 'Petal length': '3.7', 'Petal width': '1', 'Species': '1'}, {'Sepal length': '5.8', 'Sepal width': '2.7', 'Petal length': '3.9', 'Petal width': '1.2', 'Species': '1'}, {'Sepal length': '6', 'Sepal width': '2.7', 'Petal length': '5.1', 'Petal width': '1.6', 'Species': '1'}, {'Sepal length': '5.4', 'Sepal width': '3', 'Petal length': '4.5', 'Petal width': '1.5', 'Species': '1'}, {'Sepal length': '6', 'Sepal width': '3.4', 'Petal length': '4.5', 'Petal width': '1.6', 'Species': '1'}, {'Sepal length': '6.7', 'Sepal width': '3.1', 'Petal length': '4.7', 'Petal width': '1.5', 'Species': '1'}, {'Sepal length': '6.3', 'Sepal width': '2.3', 'Petal length': '4.4', 'Petal width': '1.3', 'Species': '1'}, {'Sepal length': '5.6', 'Sepal width': '3', 'Petal length': '4.1', 'Petal width': '1.3', 'Species': '1'}, {'Sepal length': '5.5', 'Sepal width': '2.5', 'Petal length': '4', 'Petal width': '1.3', 'Species': '1'}, {'Sepal length': '5.5', 'Sepal width': '2.6', 'Petal length': '4.4', 'Petal width': '1.2', 'Species': '1'}, {'Sepal length': '6.1', 'Sepal width': '3', 'Petal length': '4.6', 'Petal width': '1.4', 'Species': '1'}, {'Sepal length': '5.8', 'Sepal width': '2.6', 'Petal length': '4', 'Petal width': '1.2', 'Species': '1'}, {'Sepal length': '5', 'Sepal width': '2.3', 'Petal length': '3.3', 'Petal width': '1', 'Species': '1'}, {'Sepal length': '5.6', 'Sepal width': '2.7', 'Petal length': '4.2', 'Petal width': '1.3', 'Species': '1'}, {'Sepal length': '5.7', 'Sepal width': '3', 'Petal length': '4.2', 'Petal width': '1.2', 'Species': '1'}, {'Sepal length': '5.7', 'Sepal width': '2.9', 'Petal length': '4.2', 'Petal width': '1.3', 'Species': '1'}, {'Sepal length': '6.2', 'Sepal width': '2.9', 'Petal length': '4.3', 'Petal width': '1.3', 'Species': '1'}, {'Sepal length': '5.1', 'Sepal width': '2.5', 'Petal length': '3', 'Petal width': '1.1', 'Species': '1'}, {'Sepal length': '5.7', 'Sepal width': '2.8', 'Petal length': '4.1', 'Petal width': '1.3', 'Species': '1'}, {'Sepal length': '6.3', 'Sepal width': '3.3', 'Petal length': '6', 'Petal width': '2.5', 'Species': '1'}, {'Sepal length': '5.8', 'Sepal width': '2.7', 'Petal length': '5.1', 'Petal width': '1.9', 'Species': '1'}, {'Sepal length': '7.1', 'Sepal width': '3', 'Petal length': '5.9', 'Petal width': '2.1', 'Species': '1'}, {'Sepal length': '6.3', 'Sepal width': '2.9', 'Petal length': '5.6', 'Petal width': '1.8', 'Species': '1'}, {'Sepal length': '6.5', 'Sepal width': '3', 'Petal length': '5.8', 'Petal width': '2.2', 'Species': '1'}, {'Sepal length': '7.6', 'Sepal width': '3', 'Petal length': '6.6', 'Petal width': '2.1', 'Species': '1'}, {'Sepal length': '4.9', 'Sepal width': '2.5', 'Petal length': '4.5', 'Petal width': '1.7', 'Species': '1'}, {'Sepal length': '7.3', 'Sepal width': '2.9', 'Petal length': '6.3', 'Petal width': '1.8', 'Species': '1'}, {'Sepal length': '6.7', 'Sepal width': '2.5', 'Petal length': '5.8', 'Petal width': '1.8', 'Species': '1'}, {'Sepal length': '7.2', 'Sepal width': '3.6', 'Petal length': '6.1', 'Petal width': '2.5', 'Species': '1'}, {'Sepal length': '6.5', 'Sepal width': '3.2', 'Petal length': '5.1', 'Petal width': '2', 'Species': '1'}, {'Sepal length': '6.4', 'Sepal width': '2.7', 'Petal length': '5.3', 'Petal width': '1.9', 'Species': '1'}, {'Sepal length': '6.8', 'Sepal width': '3', 'Petal length': '5.5', 'Petal width': '2.1', 'Species': '1'}, {'Sepal length': '5.7', 'Sepal width': '2.5', 'Petal length': '5', 'Petal width': '2', 'Species': '1'}, {'Sepal length': '5.8', 'Sepal width': '2.8', 'Petal length': '5.1', 'Petal width': '2.4', 'Species': '1'}, {'Sepal length': '6.4', 'Sepal width': '3.2', 'Petal length': '5.3', 'Petal width': '2.3', 'Species': '1'}, {'Sepal length': '6.5', 'Sepal width': '3', 'Petal length': '5.5', 'Petal width': '1.8', 'Species': '1'}, {'Sepal length': '7.7', 'Sepal width': '3.8', 'Petal length': '6.7', 'Petal width': '2.2', 'Species': '1'}, {'Sepal length': '7.7', 'Sepal width': '2.6', 'Petal length': '6.9', 'Petal width': '2.3', 'Species': '1'}, {'Sepal length': '6', 'Sepal width': '2.2', 'Petal length': '5', 'Petal width': '1.5', 'Species': '1'}, {'Sepal length': '6.9', 'Sepal width': '3.2', 'Petal length': '5.7', 'Petal width': '2.3', 'Species': '1'}, {'Sepal length': '5.6', 'Sepal width': '2.8', 'Petal length': '4.9', 'Petal width': '2', 'Species': '1'}, {'Sepal length': '7.7', 'Sepal width': '2.8', 'Petal length': '6.7', 'Petal width': '2', 'Species': '1'}, {'Sepal length': '6.3', 'Sepal width': '2.7', 'Petal length': '4.9', 'Petal width': '1.8', 'Species': '1'}, {'Sepal length': '6.7', 'Sepal width': '3.3', 'Petal length': '5.7', 'Petal width': '2.1', 'Species': '1'}, {'Sepal length': '7.2', 'Sepal width': '3.2', 'Petal length': '6', 'Petal width': '1.8', 'Species': '1'}, {'Sepal length': '6.2', 'Sepal width': '2.8', 'Petal length': '4.8', 'Petal width': '1.8', 'Species': '1'}, {'Sepal length': '6.1', 'Sepal width': '3', 'Petal length': '4.9', 'Petal width': '1.8', 'Species': '1'}, {'Sepal length': '6.4', 'Sepal width': '2.8', 'Petal length': '5.6', 'Petal width': '2.1', 'Species': '1'}, {'Sepal length': '7.2', 'Sepal width': '3', 'Petal length': '5.8', 'Petal width': '1.6', 'Species': '1'}, {'Sepal length': '7.4', 'Sepal width': '2.8', 'Petal length': '6.1', 'Petal width': '1.9', 'Species': '1'}, {'Sepal length': '7.9', 'Sepal width': '3.8', 'Petal length': '6.4', 'Petal width': '2', 'Species': '1'}, {'Sepal length': '6.4', 'Sepal width': '2.8', 'Petal length': '5.6', 'Petal width': '2.2', 'Species': '1'}, {'Sepal length': '6.3', 'Sepal width': '2.8', 'Petal length': '5.1', 'Petal width': '1.5', 'Species': '1'}, {'Sepal length': '6.1', 'Sepal width': '2.6', 'Petal length': '5.6', 'Petal width': '1.4', 'Species': '1'}, {'Sepal length': '7.7', 'Sepal width': '3', 'Petal length': '6.1', 'Petal width': '2.3', 'Species': '1'}, {'Sepal length': '6.3', 'Sepal width': '3.4', 'Petal length': '5.6', 'Petal width': '2.4', 'Species': '1'}, {'Sepal length': '6.4', 'Sepal width': '3.1', 'Petal length': '5.5', 'Petal width': '1.8', 'Species': '1'}, {'Sepal length': '6', 'Sepal width': '3', 'Petal length': '4.8', 'Petal width': '1.8', 'Species': '1'}, {'Sepal length': '6.9', 'Sepal width': '3.1', 'Petal length': '5.4', 'Petal width': '2.1', 'Species': '1'}, {'Sepal length': '6.7', 'Sepal width': '3.1', 'Petal length': '5.6', 'Petal width': '2.4', 'Species': '1'}, {'Sepal length': '6.9', 'Sepal width': '3.1', 'Petal length': '5.1', 'Petal width': '2.3', 'Species': '1'}, {'Sepal length': '5.8', 'Sepal width': '2.7', 'Petal length': '5.1', 'Petal width': '1.9', 'Species': '1'}, {'Sepal length': '6.8', 'Sepal width': '3.2', 'Petal length': '5.9', 'Petal width': '2.3', 'Species': '1'}, {'Sepal length': '6.7', 'Sepal width': '3.3', 'Petal length': '5.7', 'Petal width': '2.5', 'Species': '1'}, {'Sepal length': '6.7', 'Sepal width': '3', 'Petal length': '5.2', 'Petal width': '2.3', 'Species': '1'}, {'Sepal length': '6.3', 'Sepal width': '2.5', 'Petal length': '5', 'Petal width': '1.9', 'Species': '1'}, {'Sepal length': '6.5', 'Sepal width': '3', 'Petal length': '5.2', 'Petal width': '2', 'Species': '1'}, {'Sepal length': '6.2', 'Sepal width': '3.4', 'Petal length': '5.4', 'Petal width': '2.3', 'Species': '1'}, {'Sepal length': '5.9', 'Sepal width': '3', 'Petal length': '5.1', 'Petal width': '1.8', 'Species': '1'}, {'Sepal length': '       ', 'Sepal width': '', 'Petal length': '', 'Petal width': '', 'Species': ''}]\n"
     ]
    }
   ],
   "source": [
    "list = []\n",
    "with open('iris.csv', 'r') as df:\n",
    "    for line in csv.DictReader(df):\n",
    "        list.append(line)\n",
    "print(list)   \n",
    "training_set, testing_set = train_test_split(list, test_size=0.2, random_state=1)"
   ]
  },
  {
   "cell_type": "code",
   "execution_count": 15,
   "metadata": {},
   "outputs": [],
   "source": [
    "# Working with discretize \n",
    "from sklearn.model_selection import train_test_split   \n",
    "\n",
    "training_set_csv, testing_set_csv = train_test_split(list, test_size=0.2, random_state=1)"
   ]
  },
  {
   "cell_type": "code",
   "execution_count": 16,
   "metadata": {},
   "outputs": [
    {
     "data": {
      "text/plain": [
       "[{'Sepal length': '7.7',\n",
       "  'Sepal width': '3',\n",
       "  'Petal length': '6.1',\n",
       "  'Petal width': '2.3',\n",
       "  'Species': '1'},\n",
       " {'Sepal length': '5.6',\n",
       "  'Sepal width': '2.5',\n",
       "  'Petal length': '3.9',\n",
       "  'Petal width': '1.1',\n",
       "  'Species': '1'},\n",
       " {'Sepal length': '6.4',\n",
       "  'Sepal width': '2.8',\n",
       "  'Petal length': '5.6',\n",
       "  'Petal width': '2.1',\n",
       "  'Species': '1'},\n",
       " {'Sepal length': '5.8',\n",
       "  'Sepal width': '2.8',\n",
       "  'Petal length': '5.1',\n",
       "  'Petal width': '2.4',\n",
       "  'Species': '1'},\n",
       " {'Sepal length': '5.3',\n",
       "  'Sepal width': '3.7',\n",
       "  'Petal length': '1.5',\n",
       "  'Petal width': '0.2',\n",
       "  'Species': '0'},\n",
       " {'Sepal length': '5.5',\n",
       "  'Sepal width': '2.3',\n",
       "  'Petal length': '4',\n",
       "  'Petal width': '1.3',\n",
       "  'Species': '1'},\n",
       " {'Sepal length': '5.2',\n",
       "  'Sepal width': '3.4',\n",
       "  'Petal length': '1.4',\n",
       "  'Petal width': '0.2',\n",
       "  'Species': '0'},\n",
       " {'Sepal length': '6.5',\n",
       "  'Sepal width': '2.8',\n",
       "  'Petal length': '4.6',\n",
       "  'Petal width': '1.5',\n",
       "  'Species': '1'},\n",
       " {'Sepal length': '6.7',\n",
       "  'Sepal width': '2.5',\n",
       "  'Petal length': '5.8',\n",
       "  'Petal width': '1.8',\n",
       "  'Species': '1'},\n",
       " {'Sepal length': '6.8',\n",
       "  'Sepal width': '3',\n",
       "  'Petal length': '5.5',\n",
       "  'Petal width': '2.1',\n",
       "  'Species': '1'},\n",
       " {'Sepal length': '5.1',\n",
       "  'Sepal width': '3.5',\n",
       "  'Petal length': '1.4',\n",
       "  'Petal width': '0.3',\n",
       "  'Species': '0'},\n",
       " {'Sepal length': '6',\n",
       "  'Sepal width': '2.2',\n",
       "  'Petal length': '5',\n",
       "  'Petal width': '1.5',\n",
       "  'Species': '1'},\n",
       " {'Sepal length': '6.3',\n",
       "  'Sepal width': '2.9',\n",
       "  'Petal length': '5.6',\n",
       "  'Petal width': '1.8',\n",
       "  'Species': '1'},\n",
       " {'Sepal length': '6.6',\n",
       "  'Sepal width': '2.9',\n",
       "  'Petal length': '4.6',\n",
       "  'Petal width': '1.3',\n",
       "  'Species': '1'},\n",
       " {'Sepal length': '7.7',\n",
       "  'Sepal width': '2.6',\n",
       "  'Petal length': '6.9',\n",
       "  'Petal width': '2.3',\n",
       "  'Species': '1'},\n",
       " {'Sepal length': '5.7',\n",
       "  'Sepal width': '3.8',\n",
       "  'Petal length': '1.7',\n",
       "  'Petal width': '0.3',\n",
       "  'Species': '0'},\n",
       " {'Sepal length': '5',\n",
       "  'Sepal width': '3.6',\n",
       "  'Petal length': '1.4',\n",
       "  'Petal width': '0.2',\n",
       "  'Species': '0'},\n",
       " {'Sepal length': '4.8',\n",
       "  'Sepal width': '3',\n",
       "  'Petal length': '1.4',\n",
       "  'Petal width': '0.3',\n",
       "  'Species': '0'},\n",
       " {'Sepal length': '5.2',\n",
       "  'Sepal width': '2.7',\n",
       "  'Petal length': '3.9',\n",
       "  'Petal width': '1.4',\n",
       "  'Species': '1'},\n",
       " {'Sepal length': '5.1',\n",
       "  'Sepal width': '3.4',\n",
       "  'Petal length': '1.5',\n",
       "  'Petal width': '0.2',\n",
       "  'Species': '0'},\n",
       " {'Sepal length': '5.5',\n",
       "  'Sepal width': '3.5',\n",
       "  'Petal length': '1.3',\n",
       "  'Petal width': '0.2',\n",
       "  'Species': '0'},\n",
       " {'Sepal length': '7.7',\n",
       "  'Sepal width': '3.8',\n",
       "  'Petal length': '6.7',\n",
       "  'Petal width': '2.2',\n",
       "  'Species': '1'},\n",
       " {'Sepal length': '6.9',\n",
       "  'Sepal width': '3.1',\n",
       "  'Petal length': '5.4',\n",
       "  'Petal width': '2.1',\n",
       "  'Species': '1'},\n",
       " {'Sepal length': '7.3',\n",
       "  'Sepal width': '2.9',\n",
       "  'Petal length': '6.3',\n",
       "  'Petal width': '1.8',\n",
       "  'Species': '1'},\n",
       " {'Sepal length': '6.4',\n",
       "  'Sepal width': '2.8',\n",
       "  'Petal length': '5.6',\n",
       "  'Petal width': '2.2',\n",
       "  'Species': '1'},\n",
       " {'Sepal length': '6.2',\n",
       "  'Sepal width': '2.8',\n",
       "  'Petal length': '4.8',\n",
       "  'Petal width': '1.8',\n",
       "  'Species': '1'},\n",
       " {'Sepal length': '6',\n",
       "  'Sepal width': '3.4',\n",
       "  'Petal length': '4.5',\n",
       "  'Petal width': '1.6',\n",
       "  'Species': '1'},\n",
       " {'Sepal length': '7.7',\n",
       "  'Sepal width': '2.8',\n",
       "  'Petal length': '6.7',\n",
       "  'Petal width': '2',\n",
       "  'Species': '1'},\n",
       " {'Sepal length': '5.7',\n",
       "  'Sepal width': '3',\n",
       "  'Petal length': '4.2',\n",
       "  'Petal width': '1.2',\n",
       "  'Species': '1'},\n",
       " {'Sepal length': '4.8',\n",
       "  'Sepal width': '3.4',\n",
       "  'Petal length': '1.6',\n",
       "  'Petal width': '0.2',\n",
       "  'Species': '0'},\n",
       " {'Sepal length': '5.7',\n",
       "  'Sepal width': '2.5',\n",
       "  'Petal length': '5',\n",
       "  'Petal width': '2',\n",
       "  'Species': '1'},\n",
       " {'Sepal length': '6.3',\n",
       "  'Sepal width': '2.7',\n",
       "  'Petal length': '4.9',\n",
       "  'Petal width': '1.8',\n",
       "  'Species': '1'},\n",
       " {'Sepal length': '4.8',\n",
       "  'Sepal width': '3',\n",
       "  'Petal length': '1.4',\n",
       "  'Petal width': '0.1',\n",
       "  'Species': '0'},\n",
       " {'Sepal length': '4.7',\n",
       "  'Sepal width': '3.2',\n",
       "  'Petal length': '1.3',\n",
       "  'Petal width': '0.2',\n",
       "  'Species': '0'},\n",
       " {'Sepal length': '6.5',\n",
       "  'Sepal width': '3',\n",
       "  'Petal length': '5.8',\n",
       "  'Petal width': '2.2',\n",
       "  'Species': '1'},\n",
       " {'Sepal length': '4.6',\n",
       "  'Sepal width': '3.4',\n",
       "  'Petal length': '1.4',\n",
       "  'Petal width': '0.3',\n",
       "  'Species': '0'},\n",
       " {'Sepal length': '6.1',\n",
       "  'Sepal width': '3',\n",
       "  'Petal length': '4.9',\n",
       "  'Petal width': '1.8',\n",
       "  'Species': '1'},\n",
       " {'Sepal length': '6.5',\n",
       "  'Sepal width': '3.2',\n",
       "  'Petal length': '5.1',\n",
       "  'Petal width': '2',\n",
       "  'Species': '1'},\n",
       " {'Sepal length': '6.7',\n",
       "  'Sepal width': '3.1',\n",
       "  'Petal length': '4.4',\n",
       "  'Petal width': '1.4',\n",
       "  'Species': '1'},\n",
       " {'Sepal length': '5.7',\n",
       "  'Sepal width': '2.8',\n",
       "  'Petal length': '4.5',\n",
       "  'Petal width': '1.3',\n",
       "  'Species': '1'},\n",
       " {'Sepal length': '6.7',\n",
       "  'Sepal width': '3',\n",
       "  'Petal length': '5.2',\n",
       "  'Petal width': '2.3',\n",
       "  'Species': '1'},\n",
       " {'Sepal length': '6',\n",
       "  'Sepal width': '3',\n",
       "  'Petal length': '4.8',\n",
       "  'Petal width': '1.8',\n",
       "  'Species': '1'},\n",
       " {'Sepal length': '5.1',\n",
       "  'Sepal width': '3.8',\n",
       "  'Petal length': '1.6',\n",
       "  'Petal width': '0.2',\n",
       "  'Species': '0'},\n",
       " {'Sepal length': '6',\n",
       "  'Sepal width': '2.2',\n",
       "  'Petal length': '4',\n",
       "  'Petal width': '1',\n",
       "  'Species': '1'},\n",
       " {'Sepal length': '6.4',\n",
       "  'Sepal width': '2.9',\n",
       "  'Petal length': '4.3',\n",
       "  'Petal width': '1.3',\n",
       "  'Species': '1'},\n",
       " {'Sepal length': '6.5',\n",
       "  'Sepal width': '3',\n",
       "  'Petal length': '5.5',\n",
       "  'Petal width': '1.8',\n",
       "  'Species': '1'},\n",
       " {'Sepal length': '5',\n",
       "  'Sepal width': '2.3',\n",
       "  'Petal length': '3.3',\n",
       "  'Petal width': '1',\n",
       "  'Species': '1'},\n",
       " {'Sepal length': '6.3',\n",
       "  'Sepal width': '3.3',\n",
       "  'Petal length': '6',\n",
       "  'Petal width': '2.5',\n",
       "  'Species': '1'},\n",
       " {'Sepal length': '5.5',\n",
       "  'Sepal width': '2.5',\n",
       "  'Petal length': '4',\n",
       "  'Petal width': '1.3',\n",
       "  'Species': '1'},\n",
       " {'Sepal length': '5.4',\n",
       "  'Sepal width': '3.7',\n",
       "  'Petal length': '1.5',\n",
       "  'Petal width': '0.2',\n",
       "  'Species': '0'},\n",
       " {'Sepal length': '4.9',\n",
       "  'Sepal width': '3.1',\n",
       "  'Petal length': '1.5',\n",
       "  'Petal width': '0.2',\n",
       "  'Species': '0'},\n",
       " {'Sepal length': '5.2',\n",
       "  'Sepal width': '4.1',\n",
       "  'Petal length': '1.5',\n",
       "  'Petal width': '0.1',\n",
       "  'Species': '0'},\n",
       " {'Sepal length': '6.7',\n",
       "  'Sepal width': '3.3',\n",
       "  'Petal length': '5.7',\n",
       "  'Petal width': '2.1',\n",
       "  'Species': '1'},\n",
       " {'Sepal length': '4.4',\n",
       "  'Sepal width': '3',\n",
       "  'Petal length': '1.3',\n",
       "  'Petal width': '0.2',\n",
       "  'Species': '0'},\n",
       " {'Sepal length': '6',\n",
       "  'Sepal width': '2.7',\n",
       "  'Petal length': '5.1',\n",
       "  'Petal width': '1.6',\n",
       "  'Species': '1'},\n",
       " {'Sepal length': '6.4',\n",
       "  'Sepal width': '2.7',\n",
       "  'Petal length': '5.3',\n",
       "  'Petal width': '1.9',\n",
       "  'Species': '1'},\n",
       " {'Sepal length': '       ',\n",
       "  'Sepal width': '',\n",
       "  'Petal length': '',\n",
       "  'Petal width': '',\n",
       "  'Species': ''},\n",
       " {'Sepal length': '5.2',\n",
       "  'Sepal width': '3.5',\n",
       "  'Petal length': '1.5',\n",
       "  'Petal width': '0.2',\n",
       "  'Species': '0'},\n",
       " {'Sepal length': '5.1',\n",
       "  'Sepal width': '3.3',\n",
       "  'Petal length': '1.7',\n",
       "  'Petal width': '0.5',\n",
       "  'Species': '0'},\n",
       " {'Sepal length': '5.8',\n",
       "  'Sepal width': '2.7',\n",
       "  'Petal length': '4.1',\n",
       "  'Petal width': '1',\n",
       "  'Species': '1'},\n",
       " {'Sepal length': '4.9',\n",
       "  'Sepal width': '3.1',\n",
       "  'Petal length': '1.5',\n",
       "  'Petal width': '0.1',\n",
       "  'Species': '0'},\n",
       " {'Sepal length': '7.4',\n",
       "  'Sepal width': '2.8',\n",
       "  'Petal length': '6.1',\n",
       "  'Petal width': '1.9',\n",
       "  'Species': '1'},\n",
       " {'Sepal length': '6.2',\n",
       "  'Sepal width': '2.9',\n",
       "  'Petal length': '4.3',\n",
       "  'Petal width': '1.3',\n",
       "  'Species': '1'},\n",
       " {'Sepal length': '7.6',\n",
       "  'Sepal width': '3',\n",
       "  'Petal length': '6.6',\n",
       "  'Petal width': '2.1',\n",
       "  'Species': '1'},\n",
       " {'Sepal length': '6.3',\n",
       "  'Sepal width': '2.5',\n",
       "  'Petal length': '5',\n",
       "  'Petal width': '1.9',\n",
       "  'Species': '1'},\n",
       " {'Sepal length': '6.3',\n",
       "  'Sepal width': '2.3',\n",
       "  'Petal length': '4.4',\n",
       "  'Petal width': '1.3',\n",
       "  'Species': '1'},\n",
       " {'Sepal length': '5.9',\n",
       "  'Sepal width': '3',\n",
       "  'Petal length': '5.1',\n",
       "  'Petal width': '1.8',\n",
       "  'Species': '1'},\n",
       " {'Sepal length': '7.2',\n",
       "  'Sepal width': '3.6',\n",
       "  'Petal length': '6.1',\n",
       "  'Petal width': '2.5',\n",
       "  'Species': '1'},\n",
       " {'Sepal length': '5.6',\n",
       "  'Sepal width': '2.9',\n",
       "  'Petal length': '3.6',\n",
       "  'Petal width': '1.3',\n",
       "  'Species': '1'},\n",
       " {'Sepal length': '5.7',\n",
       "  'Sepal width': '4.4',\n",
       "  'Petal length': '1.5',\n",
       "  'Petal width': '0.4',\n",
       "  'Species': '0'},\n",
       " {'Sepal length': '5.8',\n",
       "  'Sepal width': '2.7',\n",
       "  'Petal length': '3.9',\n",
       "  'Petal width': '1.2',\n",
       "  'Species': '1'},\n",
       " {'Sepal length': '4.5',\n",
       "  'Sepal width': '2.3',\n",
       "  'Petal length': '1.3',\n",
       "  'Petal width': '0.3',\n",
       "  'Species': '0'},\n",
       " {'Sepal length': '5.5',\n",
       "  'Sepal width': '2.4',\n",
       "  'Petal length': '3.8',\n",
       "  'Petal width': '1.1',\n",
       "  'Species': '1'},\n",
       " {'Sepal length': '6.9',\n",
       "  'Sepal width': '3.1',\n",
       "  'Petal length': '4.9',\n",
       "  'Petal width': '1.5',\n",
       "  'Species': '1'},\n",
       " {'Sepal length': '5',\n",
       "  'Sepal width': '3.4',\n",
       "  'Petal length': '1.6',\n",
       "  'Petal width': '0.4',\n",
       "  'Species': '0'},\n",
       " {'Sepal length': '6.8',\n",
       "  'Sepal width': '2.8',\n",
       "  'Petal length': '4.8',\n",
       "  'Petal width': '1.4',\n",
       "  'Species': '1'},\n",
       " {'Sepal length': '5',\n",
       "  'Sepal width': '3.5',\n",
       "  'Petal length': '1.6',\n",
       "  'Petal width': '0.6',\n",
       "  'Species': '0'},\n",
       " {'Sepal length': '4.8',\n",
       "  'Sepal width': '3.4',\n",
       "  'Petal length': '1.9',\n",
       "  'Petal width': '0.2',\n",
       "  'Species': '0'},\n",
       " {'Sepal length': '6.3',\n",
       "  'Sepal width': '3.4',\n",
       "  'Petal length': '5.6',\n",
       "  'Petal width': '2.4',\n",
       "  'Species': '1'},\n",
       " {'Sepal length': '5.6',\n",
       "  'Sepal width': '2.8',\n",
       "  'Petal length': '4.9',\n",
       "  'Petal width': '2',\n",
       "  'Species': '1'},\n",
       " {'Sepal length': '6.8',\n",
       "  'Sepal width': '3.2',\n",
       "  'Petal length': '5.9',\n",
       "  'Petal width': '2.3',\n",
       "  'Species': '1'},\n",
       " {'Sepal length': '5',\n",
       "  'Sepal width': '3.3',\n",
       "  'Petal length': '1.4',\n",
       "  'Petal width': '0.2',\n",
       "  'Species': '1'},\n",
       " {'Sepal length': '5.1',\n",
       "  'Sepal width': '3.7',\n",
       "  'Petal length': '1.5',\n",
       "  'Petal width': '0.4',\n",
       "  'Species': '0'},\n",
       " {'Sepal length': '5.9',\n",
       "  'Sepal width': '3.2',\n",
       "  'Petal length': '4.8',\n",
       "  'Petal width': '1.8',\n",
       "  'Species': '1'},\n",
       " {'Sepal length': '4.6',\n",
       "  'Sepal width': '3.1',\n",
       "  'Petal length': '1.5',\n",
       "  'Petal width': '0.2',\n",
       "  'Species': '0'},\n",
       " {'Sepal length': '5.8',\n",
       "  'Sepal width': '2.7',\n",
       "  'Petal length': '5.1',\n",
       "  'Petal width': '1.9',\n",
       "  'Species': '1'},\n",
       " {'Sepal length': '4.8',\n",
       "  'Sepal width': '3.1',\n",
       "  'Petal length': '1.6',\n",
       "  'Petal width': '0.2',\n",
       "  'Species': '0'},\n",
       " {'Sepal length': '6.2',\n",
       "  'Sepal width': '3.4',\n",
       "  'Petal length': '5.4',\n",
       "  'Petal width': '2.3',\n",
       "  'Species': '1'},\n",
       " {'Sepal length': '4.9',\n",
       "  'Sepal width': '2.5',\n",
       "  'Petal length': '4.5',\n",
       "  'Petal width': '1.7',\n",
       "  'Species': '1'},\n",
       " {'Sepal length': '4.6',\n",
       "  'Sepal width': '3.2',\n",
       "  'Petal length': '1.4',\n",
       "  'Petal width': '0.2',\n",
       "  'Species': '0'},\n",
       " {'Sepal length': '6.4',\n",
       "  'Sepal width': '3.2',\n",
       "  'Petal length': '5.3',\n",
       "  'Petal width': '2.3',\n",
       "  'Species': '1'},\n",
       " {'Sepal length': '4.3',\n",
       "  'Sepal width': '3',\n",
       "  'Petal length': '1.1',\n",
       "  'Petal width': '0.1',\n",
       "  'Species': '0'},\n",
       " {'Sepal length': '5.6',\n",
       "  'Sepal width': '3',\n",
       "  'Petal length': '4.1',\n",
       "  'Petal width': '1.3',\n",
       "  'Species': '1'},\n",
       " {'Sepal length': '4.4',\n",
       "  'Sepal width': '2.9',\n",
       "  'Petal length': '1.4',\n",
       "  'Petal width': '0.2',\n",
       "  'Species': '0'},\n",
       " {'Sepal length': '5.5',\n",
       "  'Sepal width': '2.4',\n",
       "  'Petal length': '3.7',\n",
       "  'Petal width': '1',\n",
       "  'Species': '1'},\n",
       " {'Sepal length': '5',\n",
       "  'Sepal width': '2',\n",
       "  'Petal length': '3.5',\n",
       "  'Petal width': '1',\n",
       "  'Species': '1'},\n",
       " {'Sepal length': '5.1',\n",
       "  'Sepal width': '3.5',\n",
       "  'Petal length': '1.4',\n",
       "  'Petal width': '0.2',\n",
       "  'Species': '0'},\n",
       " {'Sepal length': '4.9',\n",
       "  'Sepal width': '3',\n",
       "  'Petal length': '1.4',\n",
       "  'Petal width': '0.2',\n",
       "  'Species': '0'},\n",
       " {'Sepal length': '4.9',\n",
       "  'Sepal width': '2.4',\n",
       "  'Petal length': '3.3',\n",
       "  'Petal width': '1',\n",
       "  'Species': '1'},\n",
       " {'Sepal length': '4.6',\n",
       "  'Sepal width': '3.6',\n",
       "  'Petal length': '1',\n",
       "  'Petal width': '0.2',\n",
       "  'Species': '0'},\n",
       " {'Sepal length': '5.9',\n",
       "  'Sepal width': '3',\n",
       "  'Petal length': '4.2',\n",
       "  'Petal width': '1.5',\n",
       "  'Species': '1'},\n",
       " {'Sepal length': '6.1',\n",
       "  'Sepal width': '2.9',\n",
       "  'Petal length': '4.7',\n",
       "  'Petal width': '1.4',\n",
       "  'Species': '1'},\n",
       " {'Sepal length': '5',\n",
       "  'Sepal width': '3.4',\n",
       "  'Petal length': '1.5',\n",
       "  'Petal width': '0.2',\n",
       "  'Species': '0'},\n",
       " {'Sepal length': '6.7',\n",
       "  'Sepal width': '3.1',\n",
       "  'Petal length': '4.7',\n",
       "  'Petal width': '1.5',\n",
       "  'Species': '1'},\n",
       " {'Sepal length': '5.7',\n",
       "  'Sepal width': '2.9',\n",
       "  'Petal length': '4.2',\n",
       "  'Petal width': '1.3',\n",
       "  'Species': '1'},\n",
       " {'Sepal length': '6.2',\n",
       "  'Sepal width': '2.2',\n",
       "  'Petal length': '4.5',\n",
       "  'Petal width': '1.5',\n",
       "  'Species': '1'},\n",
       " {'Sepal length': '7',\n",
       "  'Sepal width': '3.2',\n",
       "  'Petal length': '4.7',\n",
       "  'Petal width': '1.4',\n",
       "  'Species': '1'},\n",
       " {'Sepal length': '5.8',\n",
       "  'Sepal width': '2.7',\n",
       "  'Petal length': '5.1',\n",
       "  'Petal width': '1.9',\n",
       "  'Species': '1'},\n",
       " {'Sepal length': '5.4',\n",
       "  'Sepal width': '3.4',\n",
       "  'Petal length': '1.7',\n",
       "  'Petal width': '0.2',\n",
       "  'Species': '0'},\n",
       " {'Sepal length': '5',\n",
       "  'Sepal width': '3',\n",
       "  'Petal length': '1.6',\n",
       "  'Petal width': '0.2',\n",
       "  'Species': '0'},\n",
       " {'Sepal length': '6.1',\n",
       "  'Sepal width': '2.6',\n",
       "  'Petal length': '5.6',\n",
       "  'Petal width': '1.4',\n",
       "  'Species': '1'},\n",
       " {'Sepal length': '6.1',\n",
       "  'Sepal width': '2.8',\n",
       "  'Petal length': '4',\n",
       "  'Petal width': '1.3',\n",
       "  'Species': '1'},\n",
       " {'Sepal length': '7.2',\n",
       "  'Sepal width': '3',\n",
       "  'Petal length': '5.8',\n",
       "  'Petal width': '1.6',\n",
       "  'Species': '1'},\n",
       " {'Sepal length': '6.7',\n",
       "  'Sepal width': '3.3',\n",
       "  'Petal length': '5.7',\n",
       "  'Petal width': '2.5',\n",
       "  'Species': '1'},\n",
       " {'Sepal length': '5.7',\n",
       "  'Sepal width': '2.6',\n",
       "  'Petal length': '3.5',\n",
       "  'Petal width': '1',\n",
       "  'Species': '1'},\n",
       " {'Sepal length': '6.3',\n",
       "  'Sepal width': '2.8',\n",
       "  'Petal length': '5.1',\n",
       "  'Petal width': '1.5',\n",
       "  'Species': '1'},\n",
       " {'Sepal length': '6.4',\n",
       "  'Sepal width': '3.1',\n",
       "  'Petal length': '5.5',\n",
       "  'Petal width': '1.8',\n",
       "  'Species': '1'},\n",
       " {'Sepal length': '6.3',\n",
       "  'Sepal width': '2.5',\n",
       "  'Petal length': '4.9',\n",
       "  'Petal width': '1.5',\n",
       "  'Species': '1'},\n",
       " {'Sepal length': '6.7',\n",
       "  'Sepal width': '3.1',\n",
       "  'Petal length': '5.6',\n",
       "  'Petal width': '2.4',\n",
       "  'Species': '1'},\n",
       " {'Sepal length': '4.9',\n",
       "  'Sepal width': '3.6',\n",
       "  'Petal length': '1.4',\n",
       "  'Petal width': '0.1',\n",
       "  'Species': '0'}]"
      ]
     },
     "execution_count": 16,
     "metadata": {},
     "output_type": "execute_result"
    }
   ],
   "source": [
    "training_set_csv"
   ]
  },
  {
   "cell_type": "code",
   "execution_count": 17,
   "metadata": {},
   "outputs": [
    {
     "data": {
      "text/plain": [
       "120"
      ]
     },
     "execution_count": 17,
     "metadata": {},
     "output_type": "execute_result"
    }
   ],
   "source": [
    "len(training_set_csv)"
   ]
  },
  {
   "cell_type": "code",
   "execution_count": 9,
   "metadata": {},
   "outputs": [
    {
     "name": "stdout",
     "output_type": "stream",
     "text": [
      "Tree Attribute: Petal length\n",
      "Tree Attribute Values: {'1.4', '1.7', '', '6.3', '4.8', '4.1', '5.9', '1.5', '6.6', '6', '1', '3.8', '5.4', '5', '3.9', '4.4', '4', '4.6', '4.5', '1.9', '6.1', '5.5', '5.7', '1.3', '4.2', '4.3', '1.6', '3.5', '5.2', '4.7', '5.6', '4.9', '5.8', '5.1', '5.3', '3.6', '3.3', '6.9', '1.1', '3.7', '6.7'}\n",
      "Tree Lable: 1\n",
      "6\n",
      "[ 0.  8. 16. 24. 32. 40.]\n",
      "5\n",
      "[48. 21. 26. 13. 12.]\n"
     ]
    },
    {
     "data": {
      "image/png": "[encoded data removed]",
      "text/plain": [
       "<Figure size 720x432 with 1 Axes>"
      ]
     },
     "metadata": {
      "needs_background": "light"
     },
     "output_type": "display_data"
    },
    {
     "name": "stdout",
     "output_type": "stream",
     "text": [
      "11\n",
      "[ 0.  4.  8. 12. 16. 20. 24. 28. 32. 36. 40.]\n",
      "10\n",
      "[19. 29. 10. 11. 12. 14.  7.  6.  4.  8.]\n"
     ]
    },
    {
     "data": {
      "image/png": "[encoded data removed]",
      "text/plain": [
       "<Figure size 720x432 with 1 Axes>"
      ]
     },
     "metadata": {
      "needs_background": "light"
     },
     "output_type": "display_data"
    },
    {
     "name": "stdout",
     "output_type": "stream",
     "text": [
      "16\n",
      "[ 0.          2.66666667  5.33333333  8.         10.66666667 13.33333333\n",
      " 16.         18.66666667 21.33333333 24.         26.66666667 29.33333333\n",
      " 32.         34.66666667 37.33333333 40.        ]\n",
      "15\n",
      "[12. 22. 14.  9.  8.  4.  9. 14.  3.  5.  5.  3.  3.  3.  6.]\n"
     ]
    },
    {
     "data": {
      "image/png": "[encoded data removed]",
      "text/plain": [
       "<Figure size 720x432 with 1 Axes>"
      ]
     },
     "metadata": {
      "needs_background": "light"
     },
     "output_type": "display_data"
    },
    {
     "name": "stdout",
     "output_type": "stream",
     "text": [
      "21\n",
      "[ 0.  2.  4.  6.  8. 10. 12. 14. 16. 18. 20. 22. 24. 26. 28. 30. 32. 34.\n",
      " 36. 38. 40.]\n",
      "20\n",
      "[ 6. 13. 15. 14.  6.  4.  7.  4.  5.  7. 11.  3.  4.  3.  3.  3.  2.  2.\n",
      "  2.  6.]\n"
     ]
    },
    {
     "data": {
      "image/png": "[encoded data removed]",
      "text/plain": [
       "<Figure size 720x432 with 1 Axes>"
      ]
     },
     "metadata": {
      "needs_background": "light"
     },
     "output_type": "display_data"
    },
    {
     "name": "stdout",
     "output_type": "stream",
     "text": [
      "Actual Values: [0, 1, 1, 0, 1, 1, 1, 0, 0, 1, 1, 0, 1, 1, 1, 0, 1, 1, 0, 0, 1, 1, 1, 0, 1, 1, 0, 0, 1, 1, 1]\n",
      "Predicted Values: [1, 1, 1, 0, 1, 1, 1, 0, 0, 1, 1, 0, 1, 1, 1, 0, 1, 1, 0, 1, 1, 1, 1, 0, 1, 1, 0, 0, 1, 1, 1]\n",
      "Confusion Matrix:\n",
      "[[ 9  0]\n",
      " [ 2 20]]\n",
      "Class 0\n",
      "True Positive: 9\n",
      "False Positive: 2\n",
      "False Negative: 0\n",
      "True Negative: 20\n",
      "Recall: 1.0\n",
      "Precision: 0.8181818181818182\n",
      "Balance Accuracy: 0.9545454545454546\n",
      "F1 Score: 0.9\n",
      "False Positive Rate: 0.09090909090909091\n",
      "True Positive Rate: 1.0\n",
      "ROC: 0.09090909090909091\n",
      "Class 1\n",
      "True Positive: 20\n",
      "False Positive: 0\n",
      "False Negative: 2\n",
      "True Negative: 9\n",
      "Recall: 0.9090909090909091\n",
      "Precision: 1.0\n",
      "Balance Accuracy: 0.9545454545454546\n",
      "F1 Score: 0.9523809523809523\n",
      "False Positive Rate: 0.0\n",
      "True Positive Rate: 0.9090909090909091\n",
      "ROC: 0.0\n"
     ]
    },
    {
     "data": {
      "image/png": "[encoded data removed]",
      "text/plain": [
       "<Figure size 1080x288 with 1 Axes>"
      ]
     },
     "metadata": {
      "needs_background": "light"
     },
     "output_type": "display_data"
    },
    {
     "name": "stdout",
     "output_type": "stream",
     "text": [
      "Accuracy: 0.9354838709677419\n"
     ]
    }
   ],
   "source": [
    "# Working with discretize \n",
    "from sklearn.model_selection import train_test_split   \n",
    "\n",
    "training_set, testing_set = train_test_split(list, test_size=0.2, random_state=1)\n",
    "\n",
    "default  = mostCommonClass(training_set)\n",
    "tree = ID3(training_set,default)\n",
    "print('Tree Attribute:',tree.attribute)\n",
    "print('Tree Attribute Values:',tree.attribute_values)\n",
    "print('Tree Lable:',tree.label)\n",
    "\n",
    "#feature columns\n",
    "feature_cols = ['sepal length (cm)', 'sepal width (cm)', 'sepal width (cm)', 'petal width (cm)']#,'Categories']\n",
    "\n",
    "\n",
    "barchart = [training_set[i][tree.attribute] for i in range(len(training_set))]\n",
    "for i in range(5,25,5):    \n",
    "    plt.figure(figsize=(10, 6))\n",
    "    (n1, x1, patches1) = plt.hist(barchart, bins=i,color='red')  \n",
    "    print(len(x1))\n",
    "    print(x1)\n",
    "    print(len(n1))\n",
    "    print(n1)\n",
    "    plt.show()\n",
    "\n",
    "accuracy1(tree,testing_set)\n",
    "acc = accuracy(tree,testing_set)\n",
    "print('Accuracy:',acc)"
   ]
  },
  {
   "cell_type": "code",
   "execution_count": 5,
   "metadata": {},
   "outputs": [],
   "source": [
    "# Combine Data to Target \n",
    "def combineXY(data, target):\n",
    "    target = [1 if e == 2 else e for e in target]\n",
    "    return np.concatenate((data, np.array([target]).T), axis=1)"
   ]
  },
  {
   "cell_type": "code",
   "execution_count": 31,
   "metadata": {},
   "outputs": [
    {
     "name": "stdout",
     "output_type": "stream",
     "text": [
      "5000\n",
      "5000\n",
      "#####For Bin##### 5\n",
      "#####For Column##### 0\n"
     ]
    },
    {
     "data": {
      "image/png": "[encoded data removed]",
      "text/plain": [
       "<Figure size 432x288 with 1 Axes>"
      ]
     },
     "metadata": {
      "needs_background": "light"
     },
     "output_type": "display_data"
    },
    {
     "data": {
      "text/plain": [
       "<Figure size 720x432 with 0 Axes>"
      ]
     },
     "metadata": {},
     "output_type": "display_data"
    },
    {
     "name": "stdout",
     "output_type": "stream",
     "text": [
      "#####For Column##### 1\n"
     ]
    },
    {
     "data": {
      "image/png": "[encoded data removed]",
      "text/plain": [
       "<Figure size 432x288 with 1 Axes>"
      ]
     },
     "metadata": {
      "needs_background": "light"
     },
     "output_type": "display_data"
    },
    {
     "data": {
      "text/plain": [
       "<Figure size 720x432 with 0 Axes>"
      ]
     },
     "metadata": {},
     "output_type": "display_data"
    },
    {
     "name": "stdout",
     "output_type": "stream",
     "text": [
      "#####For Column##### 2\n"
     ]
    },
    {
     "data": {
      "image/png": "[encoded data removed]",
      "text/plain": [
       "<Figure size 432x288 with 1 Axes>"
      ]
     },
     "metadata": {
      "needs_background": "light"
     },
     "output_type": "display_data"
    },
    {
     "data": {
      "text/plain": [
       "<Figure size 720x432 with 0 Axes>"
      ]
     },
     "metadata": {},
     "output_type": "display_data"
    },
    {
     "name": "stdout",
     "output_type": "stream",
     "text": [
      "#####For Column##### 3\n"
     ]
    },
    {
     "data": {
      "image/png": "[encoded data removed]",
      "text/plain": [
       "<Figure size 432x288 with 1 Axes>"
      ]
     },
     "metadata": {
      "needs_background": "light"
     },
     "output_type": "display_data"
    },
    {
     "data": {
      "text/plain": [
       "<Figure size 720x432 with 0 Axes>"
      ]
     },
     "metadata": {},
     "output_type": "display_data"
    },
    {
     "name": "stdout",
     "output_type": "stream",
     "text": [
      "Bins len: 6\n",
      "Bins [0.1  0.58 1.06 1.54 2.02 2.5 ]\n",
      "Frequency Length: 5\n",
      "Frequency: [49.  8. 41. 29. 23.]\n",
      "1.0\n",
      "Tree Attribute: Sepal width\n",
      "Tree Attribute Values: {2.7199999999999998, 3.6800000000000006, 3.2, 2.24, 4.16, 4.4, 2.0}\n",
      "Tree Lable: 1.0\n",
      "Actual Values: [0.0, 1.0, 0.0, 1.0, 1.0, 0.0, 0.0, 1.0, 1.0, 0.0, 1.0, 1.0, 1.0, 0.0, 1.0, 1.0, 0.0, 0.0, 1.0, 1.0, 1.0, 0.0, 1.0, 1.0, 0.0, 0.0, 1.0, 1.0]\n",
      "Predicted Values: [0.0, 1.0, 1.0, 1.0, 1.0, 1.0, 1.0, 1.0, 1.0, 1.0, 1.0, 1.0, 1.0, 1.0, 1.0, 1.0, 1.0, 1.0, 1.0, 1.0, 1.0, 1.0, 1.0, 1.0, 0.0, 1.0, 1.0, 1.0]\n",
      "Confusion Matrix:\n",
      "[[ 2  0]\n",
      " [ 9 17]]\n",
      "Class 27\n",
      "True Positive: 2\n",
      "False Positive: 0\n",
      "False Negative: 9\n",
      "True Negative: 17\n",
      "Recall: 0.18181818181818182\n",
      "Precision: 1.0\n",
      "Balance Accuracy: 0.5909090909090909\n",
      "F1 Score: 0.3076923076923077\n",
      "False Positive Rate: 0.0\n",
      "True Positive Rate: 0.18181818181818182\n",
      "ROC: 0.0\n",
      "[0.0, 0.0, 0.0, 0.0, 0.0, 0.0, 0.0, 0.0, 0.0, 0.0, 0.0] [0.19230769230769232, 0.19230769230769232, 0.19230769230769232, 0.19230769230769232, 0.19230769230769232, 0.19230769230769232, 0.19230769230769232, 0.19230769230769232, 0.19230769230769232, 0.19230769230769232, 0.19230769230769232]\n",
      "F1 Score: 0.3076923076923077\n",
      "Accuracy: 0.6333333333333333\n",
      "#####For Bin##### 10\n",
      "#####For Column##### 0\n"
     ]
    },
    {
     "data": {
      "image/png": "[encoded data removed]",
      "text/plain": [
       "<Figure size 432x288 with 1 Axes>"
      ]
     },
     "metadata": {
      "needs_background": "light"
     },
     "output_type": "display_data"
    },
    {
     "data": {
      "text/plain": [
       "<Figure size 720x432 with 0 Axes>"
      ]
     },
     "metadata": {},
     "output_type": "display_data"
    },
    {
     "name": "stdout",
     "output_type": "stream",
     "text": [
      "#####For Column##### 1\n"
     ]
    },
    {
     "data": {
      "image/png": "[encoded data removed]",
      "text/plain": [
       "<Figure size 432x288 with 1 Axes>"
      ]
     },
     "metadata": {
      "needs_background": "light"
     },
     "output_type": "display_data"
    },
    {
     "data": {
      "text/plain": [
       "<Figure size 720x432 with 0 Axes>"
      ]
     },
     "metadata": {},
     "output_type": "display_data"
    },
    {
     "name": "stdout",
     "output_type": "stream",
     "text": [
      "#####For Column##### 2\n"
     ]
    },
    {
     "data": {
      "image/png": "[encoded data removed]",
      "text/plain": [
       "<Figure size 432x288 with 1 Axes>"
      ]
     },
     "metadata": {
      "needs_background": "light"
     },
     "output_type": "display_data"
    },
    {
     "data": {
      "text/plain": [
       "<Figure size 720x432 with 0 Axes>"
      ]
     },
     "metadata": {},
     "output_type": "display_data"
    },
    {
     "name": "stdout",
     "output_type": "stream",
     "text": [
      "#####For Column##### 3\n"
     ]
    },
    {
     "data": {
      "image/png": "[encoded data removed]",
      "text/plain": [
       "<Figure size 432x288 with 1 Axes>"
      ]
     },
     "metadata": {
      "needs_background": "light"
     },
     "output_type": "display_data"
    },
    {
     "data": {
      "text/plain": [
       "<Figure size 720x432 with 0 Axes>"
      ]
     },
     "metadata": {},
     "output_type": "display_data"
    },
    {
     "name": "stdout",
     "output_type": "stream",
     "text": [
      "Bins len: 11\n",
      "Bins [0.1  0.34 0.58 0.82 1.06 1.3  1.54 1.78 2.02 2.26 2.5 ]\n",
      "Frequency Length: 10\n",
      "Frequency: [41.  8.  1.  7.  8. 33.  6. 23.  9. 14.]\n",
      "1.0\n",
      "Tree Attribute: Sepal length\n",
      "Tree Attribute Values: {4.84, 5.92, 6.279999999999999, 5.5600000000000005, 6.1, 7.720000000000001, 5.199999999999999, 6.640000000000001, 7.0, 7.359999999999999, 4.48, 4.3}\n",
      "Tree Lable: 1.0\n",
      "Actual Values: [0.0, 1.0, 0.0, 1.0, 1.0, 1.0, 0.0, 0.0, 1.0, 1.0, 0.0, 1.0, 1.0, 1.0, 0.0, 1.0, 1.0, 0.0, 0.0, 1.0, 1.0, 1.0, 0.0, 1.0, 1.0, 0.0, 0.0, 1.0, 1.0]\n",
      "Predicted Values: [1.0, 1.0, 1.0, 0.0, 1.0, 1.0, 1.0, 1.0, 1.0, 1.0, 1.0, 1.0, 1.0, 1.0, 0.0, 1.0, 1.0, 1.0, 1.0, 1.0, 1.0, 1.0, 1.0, 1.0, 1.0, 1.0, 1.0, 1.0, 1.0]\n",
      "Confusion Matrix:\n",
      "[[ 1  1]\n",
      " [10 17]]\n",
      "Class 28\n",
      "True Positive: 1\n",
      "False Positive: 1\n",
      "False Negative: 10\n",
      "True Negative: 17\n",
      "Recall: 0.09090909090909091\n",
      "Precision: 0.5\n",
      "Balance Accuracy: 0.5176767676767676\n",
      "F1 Score: 0.15384615384615385\n",
      "False Positive Rate: 0.05555555555555555\n",
      "True Positive Rate: 0.09090909090909091\n",
      "ROC: 0.611111111111111\n",
      "[0.0, 0.0, 0.0, 0.0, 0.0, 0.0, 0.0, 0.0, 0.0, 0.0, 0.0] [0.18518518518518517, 0.18518518518518517, 0.18518518518518517, 0.18518518518518517, 0.18518518518518517, 0.18518518518518517, 0.18518518518518517, 0.18518518518518517, 0.18518518518518517, 0.18518518518518517, 0.18518518518518517]\n",
      "F1 Score: 0.15384615384615385\n",
      "Accuracy: 0.6\n",
      "#####For Bin##### 15\n",
      "#####For Column##### 0\n"
     ]
    },
    {
     "data": {
      "image/png": "[encoded data removed]",
      "text/plain": [
       "<Figure size 432x288 with 1 Axes>"
      ]
     },
     "metadata": {
      "needs_background": "light"
     },
     "output_type": "display_data"
    },
    {
     "data": {
      "text/plain": [
       "<Figure size 720x432 with 0 Axes>"
      ]
     },
     "metadata": {},
     "output_type": "display_data"
    },
    {
     "name": "stdout",
     "output_type": "stream",
     "text": [
      "#####For Column##### 1\n"
     ]
    },
    {
     "data": {
      "image/png": "[encoded data removed]",
      "text/plain": [
       "<Figure size 432x288 with 1 Axes>"
      ]
     },
     "metadata": {
      "needs_background": "light"
     },
     "output_type": "display_data"
    },
    {
     "data": {
      "text/plain": [
       "<Figure size 720x432 with 0 Axes>"
      ]
     },
     "metadata": {},
     "output_type": "display_data"
    },
    {
     "name": "stdout",
     "output_type": "stream",
     "text": [
      "#####For Column##### 2\n"
     ]
    },
    {
     "data": {
      "image/png": "[encoded data removed]",
      "text/plain": [
       "<Figure size 432x288 with 1 Axes>"
      ]
     },
     "metadata": {
      "needs_background": "light"
     },
     "output_type": "display_data"
    },
    {
     "data": {
      "text/plain": [
       "<Figure size 720x432 with 0 Axes>"
      ]
     },
     "metadata": {},
     "output_type": "display_data"
    },
    {
     "name": "stdout",
     "output_type": "stream",
     "text": [
      "#####For Column##### 3\n"
     ]
    },
    {
     "data": {
      "image/png": "[encoded data removed]",
      "text/plain": [
       "<Figure size 432x288 with 1 Axes>"
      ]
     },
     "metadata": {
      "needs_background": "light"
     },
     "output_type": "display_data"
    },
    {
     "data": {
      "text/plain": [
       "<Figure size 720x432 with 0 Axes>"
      ]
     },
     "metadata": {},
     "output_type": "display_data"
    },
    {
     "name": "stdout",
     "output_type": "stream",
     "text": [
      "Bins len: 16\n",
      "Bins [0.1  0.26 0.42 0.58 0.74 0.9  1.06 1.22 1.38 1.54 1.7  1.86 2.02 2.18\n",
      " 2.34 2.5 ]\n",
      "Frequency Length: 15\n",
      "Frequency: [34. 14.  1.  1.  0.  7.  8. 13. 20.  6. 12. 11.  6. 11.  6.]\n",
      "1.0\n",
      "Tree Attribute: Petal length\n",
      "Tree Attribute Values: {1.5899999999999999, 1.1966666666666668, 3.95, 4.736666666666667, 5.523333333333333, 5.916666666666668, 5.130000000000001, 6.9, 6.703333333333333, 6.3100000000000005, 4.343333333333334, 3.1633333333333336, 1.9833333333333334, 1.0, 3.5566666666666666}\n",
      "Tree Lable: 1.0\n",
      "Actual Values: [0.0, 1.0, 1.0, 0.0, 1.0, 1.0, 1.0, 0.0, 0.0, 1.0, 1.0, 0.0, 1.0, 1.0, 1.0, 0.0, 1.0, 1.0, 0.0, 0.0, 1.0, 1.0, 1.0, 0.0, 1.0, 1.0, 0.0, 0.0, 1.0, 1.0]\n",
      "Predicted Values: [0.0, 1.0, 1.0, 0.0, 1.0, 1.0, 1.0, 0.0, 0.0, 1.0, 1.0, 0.0, 1.0, 1.0, 1.0, 0.0, 1.0, 1.0, 0.0, 0.0, 1.0, 1.0, 1.0, 0.0, 1.0, 1.0, 0.0, 0.0, 1.0, 1.0]\n",
      "Confusion Matrix:\n",
      "[[11  0]\n",
      " [ 0 19]]\n",
      "Class 29\n",
      "True Positive: 11\n",
      "False Positive: 0\n",
      "False Negative: 0\n",
      "True Negative: 19\n",
      "Recall: 1.0\n",
      "Precision: 1.0\n",
      "Balance Accuracy: 1.0\n",
      "F1 Score: 1.0\n",
      "False Positive Rate: 0.0\n",
      "True Positive Rate: 1.0\n",
      "ROC: 0.0\n",
      "[0.0, 0.0, 0.0, 0.0, 0.0, 0.0, 0.0, 0.0, 0.0, 0.0, 0.0] [0.2631578947368421, 0.2631578947368421, 0.2631578947368421, 0.2631578947368421, 0.2631578947368421, 0.2631578947368421, 0.2631578947368421, 0.2631578947368421, 0.2631578947368421, 0.2631578947368421, 0.2631578947368421]\n",
      "F1 Score: 1.0\n",
      "Accuracy: 1.0\n",
      "#####For Bin##### 20\n",
      "#####For Column##### 0\n"
     ]
    },
    {
     "data": {
      "image/png": "[encoded data removed]",
      "text/plain": [
       "<Figure size 432x288 with 1 Axes>"
      ]
     },
     "metadata": {
      "needs_background": "light"
     },
     "output_type": "display_data"
    },
    {
     "data": {
      "text/plain": [
       "<Figure size 720x432 with 0 Axes>"
      ]
     },
     "metadata": {},
     "output_type": "display_data"
    },
    {
     "name": "stdout",
     "output_type": "stream",
     "text": [
      "#####For Column##### 1\n"
     ]
    },
    {
     "data": {
      "image/png": "[encoded data removed]",
      "text/plain": [
       "<Figure size 432x288 with 1 Axes>"
      ]
     },
     "metadata": {
      "needs_background": "light"
     },
     "output_type": "display_data"
    },
    {
     "data": {
      "text/plain": [
       "<Figure size 720x432 with 0 Axes>"
      ]
     },
     "metadata": {},
     "output_type": "display_data"
    },
    {
     "name": "stdout",
     "output_type": "stream",
     "text": [
      "#####For Column##### 2\n"
     ]
    },
    {
     "data": {
      "image/png": "[encoded data removed]",
      "text/plain": [
       "<Figure size 432x288 with 1 Axes>"
      ]
     },
     "metadata": {
      "needs_background": "light"
     },
     "output_type": "display_data"
    },
    {
     "data": {
      "text/plain": [
       "<Figure size 720x432 with 0 Axes>"
      ]
     },
     "metadata": {},
     "output_type": "display_data"
    },
    {
     "name": "stdout",
     "output_type": "stream",
     "text": [
      "#####For Column##### 3\n"
     ]
    },
    {
     "data": {
      "image/png": "[encoded data removed]",
      "text/plain": [
       "<Figure size 432x288 with 1 Axes>"
      ]
     },
     "metadata": {
      "needs_background": "light"
     },
     "output_type": "display_data"
    },
    {
     "data": {
      "text/plain": [
       "<Figure size 720x432 with 0 Axes>"
      ]
     },
     "metadata": {},
     "output_type": "display_data"
    },
    {
     "name": "stdout",
     "output_type": "stream",
     "text": [
      "Bins len: 21\n",
      "Bins [0.1  0.22 0.34 0.46 0.58 0.7  0.82 0.94 1.06 1.18 1.3  1.42 1.54 1.66\n",
      " 1.78 1.9  2.02 2.14 2.26 2.38 2.5 ]\n",
      "Frequency Length: 20\n",
      "Frequency: [34.  7.  7.  1.  1.  0.  0.  7.  3.  5. 21. 12.  4.  2. 12. 11.  6.  3.\n",
      "  8.  6.]\n",
      "1.0\n",
      "Tree Attribute: Petal length\n",
      "Tree Attribute Values: {1.4425, 1.7375000000000003, 3.8025, 4.982500000000001, 4.687500000000001, 5.572500000000001, 6.1625000000000005, 4.0975, 5.867500000000001, 6.9, 6.7525, 5.277500000000001, 4.392500000000001, 6.4575000000000005, 1.0, 3.2125000000000004, 3.5075000000000003, 1.1475, 2.0325}\n",
      "Tree Lable: 1.0\n",
      "Actual Values: [0.0, 1.0, 1.0, 0.0, 1.0, 1.0, 1.0, 0.0, 0.0, 1.0, 1.0, 0.0, 1.0, 1.0, 1.0, 0.0, 1.0, 1.0, 0.0, 0.0, 1.0, 1.0, 1.0, 0.0, 1.0, 1.0, 0.0, 0.0, 1.0, 1.0]\n",
      "Predicted Values: [0.0, 0.0, 1.0, 0.0, 1.0, 1.0, 1.0, 0.0, 0.0, 1.0, 1.0, 0.0, 1.0, 1.0, 1.0, 0.0, 1.0, 1.0, 0.0, 0.0, 1.0, 1.0, 1.0, 0.0, 1.0, 1.0, 0.0, 0.0, 1.0, 1.0]\n",
      "Confusion Matrix:\n",
      "[[11  1]\n",
      " [ 0 18]]\n",
      "Class 29\n",
      "True Positive: 11\n",
      "False Positive: 1\n",
      "False Negative: 0\n",
      "True Negative: 18\n",
      "Recall: 1.0\n",
      "Precision: 0.9166666666666666\n",
      "Balance Accuracy: 0.9736842105263157\n",
      "F1 Score: 0.9565217391304348\n",
      "False Positive Rate: 0.05263157894736842\n",
      "True Positive Rate: 1.0\n",
      "ROC: 0.05263157894736842\n",
      "[0.0, 0.0, 0.0, 0.0, 0.0, 0.0, 0.0, 0.0, 0.0, 0.0, 0.0] [0.2777777777777778, 0.2777777777777778, 0.2777777777777778, 0.2777777777777778, 0.2777777777777778, 0.2777777777777778, 0.2777777777777778, 0.2777777777777778, 0.2777777777777778, 0.2777777777777778, 0.2777777777777778]\n",
      "F1 Score: 0.9565217391304348\n",
      "Accuracy: 0.9666666666666667\n"
     ]
    }
   ],
   "source": [
    "## Recursion Dying Here\n",
    "print(sys.getrecursionlimit())\n",
    "sys.setrecursionlimit(5000)\n",
    "print(sys.getrecursionlimit())\n",
    "accuracy_list = []\n",
    "F1_score_list = []\n",
    "fpr_list = []\n",
    "tnr_list = []\n",
    "roc_point_FPR_list = []\n",
    "roc_point_TPR_list = []\n",
    "\n",
    "dataset_with_bins = []\n",
    "for i in range(5, 25, 5):    \n",
    "    iris = datasets.load_iris()\n",
    "    iris_data = iris.data\n",
    "    print('#####For Bin#####', i)\n",
    "    for col in range(4):\n",
    "        print('#####For Column#####', col)\n",
    "        (frequency, bins, patches1) = plt.hist(iris_data[:, col], bins=i, color='red')\n",
    "        plt.figure(figsize=(10, 6))\n",
    "        plt.show()\n",
    "        for datapoint in range(len(iris_data[:, col])):\n",
    "            for v in range(len(bins) - 1):\n",
    "                if iris_data[:, [col][0]][datapoint] > bins[v] and iris_data[:, [col][0]][datapoint] < bins[v + 1]:\n",
    "                    iris_data[:, [col][0]][datapoint] = (bins[v] + bins[v + 1]) / 2\n",
    "                    break\n",
    "\n",
    "    print('Bins len:', len(bins))\n",
    "    print('Bins', bins)\n",
    "    print('Frequency Length:', len(frequency))\n",
    "    print('Frequency:', frequency)\n",
    "    finalresult = combineXY(iris_data, iris.target)\n",
    "    dataset_with_bins.append(finalresult)\n",
    "    # print(finalresult)\n",
    "\n",
    "    col_label = ['Sepal length', 'Sepal width', 'Petal length', 'Petal width', 'Species']\n",
    "    final_dictionary = []\n",
    "    for data in finalresult:\n",
    "        final_dictionary.append(dict(zip(col_label, data)))\n",
    "    # print(final_dictionary)\n",
    "\n",
    "    training_set, testing_set = train_test_split(final_dictionary, test_size=0.2, random_state=1)\n",
    "    deafult1 = mostCommonClass(training_set)\n",
    "    print(deafult1)\n",
    "    tree = ID3(training_set, deafult1, inserted=[])\n",
    "    print('Tree Attribute:', tree.attribute)\n",
    "    print('Tree Attribute Values:', tree.attribute_values)\n",
    "    print('Tree Lable:', tree.label)\n",
    "    f_score, fpr, tnr, roc_point_FPR,roc_point_TPR = accuracy1(tree, testing_set)\n",
    "    print('F1 Score:',f_score)\n",
    "    F1_score_list.append(f_score)\n",
    "    fpr_list.append(fpr)\n",
    "    tnr_list.append(tnr)\n",
    "    roc_point_FPR_list.append(roc_point_FPR[:])\n",
    "    roc_point_TPR_list.append(roc_point_TPR[:])\n",
    "    acc = accuracy(tree, testing_set)\n",
    "    print('Accuracy:', acc)\n",
    "    accuracy_list.append(acc)\n",
    "    "
   ]
  },
  {
   "cell_type": "code",
   "execution_count": 29,
   "metadata": {},
   "outputs": [
    {
     "name": "stdout",
     "output_type": "stream",
     "text": [
      "########Accuracy List#########\n",
      "Minimum Accuracy: 0.6\n",
      "Maximum Accuracy: 1.0\n",
      "Average Accuracy: 0.8\n"
     ]
    }
   ],
   "source": [
    "print('########Accuracy List#########')    \n",
    "minimum_accuracy = min(accuracy_list)    \n",
    "maximum_accuracy = max(accuracy_list)\n",
    "print('Minimum Accuracy:',minimum_accuracy)\n",
    "print('Maximum Accuracy:',maximum_accuracy)\n",
    "print('Average Accuracy:',sum(accuracy_list)/len(accuracy_list))"
   ]
  },
  {
   "cell_type": "code",
   "execution_count": 28,
   "metadata": {},
   "outputs": [
    {
     "name": "stdout",
     "output_type": "stream",
     "text": [
      "[0.3076923076923077, 0.15384615384615385, 1.0, 0.9565217391304348]\n"
     ]
    },
    {
     "data": {
      "image/png": "[encoded data removed]",
      "text/plain": [
       "<Figure size 1080x288 with 1 Axes>"
      ]
     },
     "metadata": {
      "needs_background": "light"
     },
     "output_type": "display_data"
    }
   ],
   "source": [
    "print(F1_score_list)    \n",
    "plt.figure(figsize=(15, 4))\n",
    "plt.title('F1 Score Vs No of bins', fontdict={'fontweight': 'bold', 'fontsize': 18})\n",
    "plt.plot(np.arange(5,25,5),F1_score_list, label='F1 Score Vs No of bins')\n",
    "plt.legend()\n",
    "plt.xlabel('No of bins')\n",
    "plt.ylabel('F1 Score')\n",
    "plt.savefig('roc', dpi=100)\n",
    "plt.show()"
   ]
  },
  {
   "cell_type": "code",
   "execution_count": 27,
   "metadata": {},
   "outputs": [
    {
     "name": "stdout",
     "output_type": "stream",
     "text": [
      "[0.6333333333333333, 0.6, 1.0, 0.9666666666666667]\n"
     ]
    },
    {
     "data": {
      "image/png": "[encoded data removed]",
      "text/plain": [
       "<Figure size 1080x288 with 1 Axes>"
      ]
     },
     "metadata": {
      "needs_background": "light"
     },
     "output_type": "display_data"
    }
   ],
   "source": [
    "print(accuracy_list)\n",
    "plt.figure(figsize=(15, 4))\n",
    "plt.title('Accuracy Vs No of bins', fontdict={'fontweight': 'bold', 'fontsize': 18})\n",
    "plt.plot(np.arange(5,25,5),accuracy_list, label='Accuracy Vs No of bins')\n",
    "plt.legend()\n",
    "plt.xlabel('No of bins')\n",
    "plt.ylabel('Accuracy')\n",
    "plt.savefig('roc', dpi=100)\n",
    "plt.show() "
   ]
  },
  {
   "cell_type": "code",
   "execution_count": 26,
   "metadata": {},
   "outputs": [
    {
     "name": "stderr",
     "output_type": "stream",
     "text": [
      "No handles with labels found to put in legend.\n"
     ]
    },
    {
     "name": "stdout",
     "output_type": "stream",
     "text": [
      "[0.0, 0.05555555555555555, 0.0, 0.05263157894736842]\n",
      "[0.18181818181818182, 0.09090909090909091, 1.0, 1.0]\n"
     ]
    },
    {
     "data": {
      "image/png": "[encoded data removed]",
      "text/plain": [
       "<Figure size 1080x288 with 1 Axes>"
      ]
     },
     "metadata": {
      "needs_background": "light"
     },
     "output_type": "display_data"
    }
   ],
   "source": [
    "print(fpr_list)\n",
    "print(tnr_list)\n",
    "plt.figure(figsize=(15, 4))\n",
    "plt.title('ROC Curve', fontdict={'fontweight': 'bold', 'fontsize': 18})\n",
    "plt.scatter(fpr_list,tnr_list)\n",
    "plt.legend()\n",
    "plt.xlabel('False Positive Rate')\n",
    "plt.ylabel('True Positive Rate')\n",
    "plt.savefig('roc', dpi=100)\n",
    "plt.show() "
   ]
  },
  {
   "cell_type": "code",
   "execution_count": 32,
   "metadata": {},
   "outputs": [
    {
     "name": "stdout",
     "output_type": "stream",
     "text": [
      "[[0.0, 0.0, 0.0, 0.0, 0.0, 0.0, 0.0, 0.0, 0.0, 0.0, 0.0], [0.0, 0.0, 0.0, 0.0, 0.0, 0.0, 0.0, 0.0, 0.0, 0.0, 0.0], [0.0, 0.0, 0.0, 0.0, 0.0, 0.0, 0.0, 0.0, 0.0, 0.0, 0.0], [0.0, 0.0, 0.0, 0.0, 0.0, 0.0, 0.0, 0.0, 0.0, 0.0, 0.0]]\n",
      "[[0.19230769230769232, 0.19230769230769232, 0.19230769230769232, 0.19230769230769232, 0.19230769230769232, 0.19230769230769232, 0.19230769230769232, 0.19230769230769232, 0.19230769230769232, 0.19230769230769232, 0.19230769230769232], [0.18518518518518517, 0.18518518518518517, 0.18518518518518517, 0.18518518518518517, 0.18518518518518517, 0.18518518518518517, 0.18518518518518517, 0.18518518518518517, 0.18518518518518517, 0.18518518518518517, 0.18518518518518517], [0.2631578947368421, 0.2631578947368421, 0.2631578947368421, 0.2631578947368421, 0.2631578947368421, 0.2631578947368421, 0.2631578947368421, 0.2631578947368421, 0.2631578947368421, 0.2631578947368421, 0.2631578947368421], [0.2777777777777778, 0.2777777777777778, 0.2777777777777778, 0.2777777777777778, 0.2777777777777778, 0.2777777777777778, 0.2777777777777778, 0.2777777777777778, 0.2777777777777778, 0.2777777777777778, 0.2777777777777778]]\n"
     ]
    }
   ],
   "source": [
    "print(roc_point_FPR_list)\n",
    "print(roc_point_TPR_list)"
   ]
  },
  {
   "cell_type": "code",
   "execution_count": 33,
   "metadata": {},
   "outputs": [
    {
     "name": "stderr",
     "output_type": "stream",
     "text": [
      "No handles with labels found to put in legend.\n"
     ]
    },
    {
     "name": "stdout",
     "output_type": "stream",
     "text": [
      "[[0.0, 0.0, 0.0, 0.0, 0.0, 0.0, 0.0, 0.0, 0.0, 0.0, 0.0], [0.0, 0.0, 0.0, 0.0, 0.0, 0.0, 0.0, 0.0, 0.0, 0.0, 0.0], [0.0, 0.0, 0.0, 0.0, 0.0, 0.0, 0.0, 0.0, 0.0, 0.0, 0.0], [0.0, 0.0, 0.0, 0.0, 0.0, 0.0, 0.0, 0.0, 0.0, 0.0, 0.0]]\n",
      "[[0.19230769230769232, 0.19230769230769232, 0.19230769230769232, 0.19230769230769232, 0.19230769230769232, 0.19230769230769232, 0.19230769230769232, 0.19230769230769232, 0.19230769230769232, 0.19230769230769232, 0.19230769230769232], [0.18518518518518517, 0.18518518518518517, 0.18518518518518517, 0.18518518518518517, 0.18518518518518517, 0.18518518518518517, 0.18518518518518517, 0.18518518518518517, 0.18518518518518517, 0.18518518518518517, 0.18518518518518517], [0.2631578947368421, 0.2631578947368421, 0.2631578947368421, 0.2631578947368421, 0.2631578947368421, 0.2631578947368421, 0.2631578947368421, 0.2631578947368421, 0.2631578947368421, 0.2631578947368421, 0.2631578947368421], [0.2777777777777778, 0.2777777777777778, 0.2777777777777778, 0.2777777777777778, 0.2777777777777778, 0.2777777777777778, 0.2777777777777778, 0.2777777777777778, 0.2777777777777778, 0.2777777777777778, 0.2777777777777778]]\n"
     ]
    },
    {
     "data": {
      "image/png": "[encoded data removed]",
      "text/plain": [
       "<Figure size 1080x288 with 1 Axes>"
      ]
     },
     "metadata": {
      "needs_background": "light"
     },
     "output_type": "display_data"
    }
   ],
   "source": [
    "print(roc_point_FPR_list)\n",
    "print(roc_point_TPR_list)\n",
    "plt.figure(figsize=(15, 4))\n",
    "plt.title('ROC Curve', fontdict={'fontweight': 'bold', 'fontsize': 18})\n",
    "plt.scatter(roc_point_FPR_list,roc_point_TPR_list)\n",
    "plt.legend()\n",
    "plt.xlabel('False Positive Rate')\n",
    "plt.ylabel('True Positive Rate')\n",
    "plt.savefig('roc', dpi=100)\n",
    "plt.show() "
   ]
  },
  {
   "cell_type": "code",
   "execution_count": 39,
   "metadata": {},
   "outputs": [
    {
     "name": "stdout",
     "output_type": "stream",
     "text": [
      "1.0\n",
      "Tree Attribute: Sepal width\n",
      "Tree Attribute Values: {2.7199999999999998, 3.6800000000000006, 3.2, 2.24, 4.16, 4.4, 2.0}\n",
      "Tree Lable: 1.0\n",
      "Actual Values: [0, 1, 0, 1, 1, 0, 0, 1, 1, 0, 1, 1, 1, 0, 1, 1, 0, 0, 1, 1, 1, 0, 1, 1, 0, 0, 1, 1]\n",
      "Predicted Values: [0, 1, 1, 1, 1, 1, 1, 1, 1, 1, 1, 1, 1, 1, 1, 1, 1, 1, 1, 1, 1, 1, 1, 1, 0, 1, 1, 1]\n",
      "Confusion Matrix:\n",
      "[[ 2  0]\n",
      " [ 9 17]]\n",
      "Class 0\n",
      "True Positive: 2\n",
      "False Positive: 9\n",
      "False Negative: 0\n",
      "True Negative: 17\n",
      "Recall: 1.0\n",
      "Precision: 0.18181818181818182\n",
      "Balance Accuracy: 0.8269230769230769\n",
      "F1 Score: 0.3076923076923077\n",
      "False Positive Rate: 0.34615384615384615\n",
      "True Positive Rate: 1.0\n",
      "ROC: 0.34615384615384615\n",
      "Class 1\n",
      "True Positive: 17\n",
      "False Positive: 0\n",
      "False Negative: 9\n",
      "True Negative: 2\n",
      "Recall: 0.6538461538461539\n",
      "Precision: 1.0\n",
      "Balance Accuracy: 0.8269230769230769\n",
      "F1 Score: 0.7906976744186047\n",
      "False Positive Rate: 0.0\n",
      "True Positive Rate: 0.6538461538461539\n",
      "ROC: 0.0\n"
     ]
    },
    {
     "data": {
      "image/png": "[encoded data removed]",
      "text/plain": [
       "<Figure size 1080x288 with 1 Axes>"
      ]
     },
     "metadata": {
      "needs_background": "light"
     },
     "output_type": "display_data"
    },
    {
     "name": "stdout",
     "output_type": "stream",
     "text": [
      "Accuracy: 0.6333333333333333\n"
     ]
    }
   ],
   "source": [
    "# Showing Dead Kernel after running this section \n",
    "deafult1 = mostCommonClass(training_set)\n",
    "print(deafult1)\n",
    "tree = ID3(training_set, deafult1, inserted=[])\n",
    "print('Tree Attribute:', tree.attribute)\n",
    "print('Tree Attribute Values:', tree.attribute_values)\n",
    "print('Tree Lable:', tree.label)\n",
    "\n",
    "accuracy1(tree, testing_set)\n",
    "acc = accuracy(tree, testing_set)\n",
    "print('Accuracy:', acc)\n"
   ]
  },
  {
   "cell_type": "code",
   "execution_count": null,
   "metadata": {},
   "outputs": [],
   "source": []
  }
 ],
 "metadata": {
  "kernelspec": {
   "display_name": "Python 3",
   "language": "python",
   "name": "python3"
  },
  "language_info": {
   "codemirror_mode": {
    "name": "ipython",
    "version": 3
   },
   "file_extension": ".py",
   "mimetype": "text/x-python",
   "name": "python",
   "nbconvert_exporter": "python",
   "pygments_lexer": "ipython3",
   "version": "3.8.3"
  }
 },
 "nbformat": 4,
 "nbformat_minor": 4
}
